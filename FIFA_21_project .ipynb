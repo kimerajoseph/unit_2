{
 "cells": [
  {
   "cell_type": "code",
   "execution_count": 1,
   "id": "61801af6",
   "metadata": {},
   "outputs": [
    {
     "data": {
      "text/plain": [
       "(11701, 101)"
      ]
     },
     "execution_count": 1,
     "metadata": {},
     "output_type": "execute_result"
    }
   ],
   "source": [
    "import pandas as pd\n",
    "import numpy as np\n",
    "import datetime\n",
    "import calendar\n",
    "#import datetime from datetime\n",
    "import math\n",
    "import re\n",
    "import pint\n",
    "from sklearn import linear_model\n",
    "data = pd.read_csv('fifa21_train.csv')\n",
    "data.shape"
   ]
  },
  {
   "cell_type": "code",
   "execution_count": 2,
   "id": "55bb2554",
   "metadata": {},
   "outputs": [
    {
     "data": {
      "text/plain": [
       "Index(['id', 'name', 'age', 'nationality', 'club', 'bp', 'position',\n",
       "       'team & contract', 'height', 'weight',\n",
       "       ...\n",
       "       'cdm', 'rdm', 'rwb', 'lb', 'lcb', 'cb', 'rcb', 'rb', 'gk', 'ova'],\n",
       "      dtype='object', length=101)"
      ]
     },
     "execution_count": 2,
     "metadata": {},
     "output_type": "execute_result"
    }
   ],
   "source": [
    "new_col = []\n",
    "for col in data.columns:\n",
    "    new_col.append(col.lower())\n",
    "data.columns = new_col\n",
    "data.columns\n",
    "    "
   ]
  },
  {
   "cell_type": "code",
   "execution_count": 3,
   "id": "e21dfea8",
   "metadata": {},
   "outputs": [
    {
     "data": {
      "text/plain": [
       "id              0\n",
       "name            0\n",
       "age             0\n",
       "nationality     0\n",
       "club           18\n",
       "               ..\n",
       "cb              0\n",
       "rcb             0\n",
       "rb              0\n",
       "gk              0\n",
       "ova             0\n",
       "Length: 101, dtype: int64"
      ]
     },
     "execution_count": 3,
     "metadata": {},
     "output_type": "execute_result"
    }
   ],
   "source": [
    "data.isna().sum()"
   ]
  },
  {
   "cell_type": "code",
   "execution_count": 4,
   "id": "04063576",
   "metadata": {},
   "outputs": [
    {
     "data": {
      "text/html": [
       "<div>\n",
       "<style scoped>\n",
       "    .dataframe tbody tr th:only-of-type {\n",
       "        vertical-align: middle;\n",
       "    }\n",
       "\n",
       "    .dataframe tbody tr th {\n",
       "        vertical-align: top;\n",
       "    }\n",
       "\n",
       "    .dataframe thead th {\n",
       "        text-align: right;\n",
       "    }\n",
       "</style>\n",
       "<table border=\"1\" class=\"dataframe\">\n",
       "  <thead>\n",
       "    <tr style=\"text-align: right;\">\n",
       "      <th></th>\n",
       "      <th>id</th>\n",
       "      <th>age</th>\n",
       "      <th>growth</th>\n",
       "      <th>attacking</th>\n",
       "      <th>crossing</th>\n",
       "      <th>finishing</th>\n",
       "      <th>heading accuracy</th>\n",
       "      <th>short passing</th>\n",
       "      <th>volleys</th>\n",
       "      <th>skill</th>\n",
       "      <th>...</th>\n",
       "      <th>gk reflexes</th>\n",
       "      <th>total stats</th>\n",
       "      <th>base stats</th>\n",
       "      <th>pac</th>\n",
       "      <th>sho</th>\n",
       "      <th>pas</th>\n",
       "      <th>dri</th>\n",
       "      <th>def</th>\n",
       "      <th>phy</th>\n",
       "      <th>ova</th>\n",
       "    </tr>\n",
       "  </thead>\n",
       "  <tbody>\n",
       "    <tr>\n",
       "      <th>0</th>\n",
       "      <td>184383</td>\n",
       "      <td>26</td>\n",
       "      <td>1</td>\n",
       "      <td>258</td>\n",
       "      <td>54</td>\n",
       "      <td>47</td>\n",
       "      <td>43</td>\n",
       "      <td>70</td>\n",
       "      <td>44.0</td>\n",
       "      <td>286</td>\n",
       "      <td>...</td>\n",
       "      <td>6</td>\n",
       "      <td>1682</td>\n",
       "      <td>357</td>\n",
       "      <td>69</td>\n",
       "      <td>51</td>\n",
       "      <td>63</td>\n",
       "      <td>63</td>\n",
       "      <td>51</td>\n",
       "      <td>60</td>\n",
       "      <td>64</td>\n",
       "    </tr>\n",
       "    <tr>\n",
       "      <th>1</th>\n",
       "      <td>188044</td>\n",
       "      <td>30</td>\n",
       "      <td>0</td>\n",
       "      <td>365</td>\n",
       "      <td>66</td>\n",
       "      <td>79</td>\n",
       "      <td>76</td>\n",
       "      <td>68</td>\n",
       "      <td>76.0</td>\n",
       "      <td>375</td>\n",
       "      <td>...</td>\n",
       "      <td>16</td>\n",
       "      <td>1961</td>\n",
       "      <td>412</td>\n",
       "      <td>83</td>\n",
       "      <td>75</td>\n",
       "      <td>68</td>\n",
       "      <td>82</td>\n",
       "      <td>33</td>\n",
       "      <td>71</td>\n",
       "      <td>77</td>\n",
       "    </tr>\n",
       "    <tr>\n",
       "      <th>2</th>\n",
       "      <td>184431</td>\n",
       "      <td>33</td>\n",
       "      <td>0</td>\n",
       "      <td>336</td>\n",
       "      <td>73</td>\n",
       "      <td>76</td>\n",
       "      <td>34</td>\n",
       "      <td>78</td>\n",
       "      <td>75.0</td>\n",
       "      <td>424</td>\n",
       "      <td>...</td>\n",
       "      <td>3</td>\n",
       "      <td>1925</td>\n",
       "      <td>404</td>\n",
       "      <td>80</td>\n",
       "      <td>77</td>\n",
       "      <td>78</td>\n",
       "      <td>86</td>\n",
       "      <td>27</td>\n",
       "      <td>56</td>\n",
       "      <td>80</td>\n",
       "    </tr>\n",
       "    <tr>\n",
       "      <th>3</th>\n",
       "      <td>233796</td>\n",
       "      <td>22</td>\n",
       "      <td>13</td>\n",
       "      <td>242</td>\n",
       "      <td>44</td>\n",
       "      <td>42</td>\n",
       "      <td>58</td>\n",
       "      <td>62</td>\n",
       "      <td>36.0</td>\n",
       "      <td>259</td>\n",
       "      <td>...</td>\n",
       "      <td>12</td>\n",
       "      <td>1527</td>\n",
       "      <td>329</td>\n",
       "      <td>57</td>\n",
       "      <td>44</td>\n",
       "      <td>54</td>\n",
       "      <td>57</td>\n",
       "      <td>57</td>\n",
       "      <td>60</td>\n",
       "      <td>59</td>\n",
       "    </tr>\n",
       "    <tr>\n",
       "      <th>4</th>\n",
       "      <td>234799</td>\n",
       "      <td>23</td>\n",
       "      <td>8</td>\n",
       "      <td>249</td>\n",
       "      <td>49</td>\n",
       "      <td>37</td>\n",
       "      <td>61</td>\n",
       "      <td>68</td>\n",
       "      <td>34.0</td>\n",
       "      <td>280</td>\n",
       "      <td>...</td>\n",
       "      <td>15</td>\n",
       "      <td>1664</td>\n",
       "      <td>360</td>\n",
       "      <td>66</td>\n",
       "      <td>44</td>\n",
       "      <td>60</td>\n",
       "      <td>64</td>\n",
       "      <td>60</td>\n",
       "      <td>66</td>\n",
       "      <td>65</td>\n",
       "    </tr>\n",
       "  </tbody>\n",
       "</table>\n",
       "<p>5 rows × 53 columns</p>\n",
       "</div>"
      ],
      "text/plain": [
       "       id  age  growth  attacking  crossing  finishing  heading accuracy  \\\n",
       "0  184383   26       1        258        54         47                43   \n",
       "1  188044   30       0        365        66         79                76   \n",
       "2  184431   33       0        336        73         76                34   \n",
       "3  233796   22      13        242        44         42                58   \n",
       "4  234799   23       8        249        49         37                61   \n",
       "\n",
       "   short passing  volleys  skill  ...  gk reflexes  total stats  base stats  \\\n",
       "0             70     44.0    286  ...            6         1682         357   \n",
       "1             68     76.0    375  ...           16         1961         412   \n",
       "2             78     75.0    424  ...            3         1925         404   \n",
       "3             62     36.0    259  ...           12         1527         329   \n",
       "4             68     34.0    280  ...           15         1664         360   \n",
       "\n",
       "   pac  sho  pas  dri  def  phy  ova  \n",
       "0   69   51   63   63   51   60   64  \n",
       "1   83   75   68   82   33   71   77  \n",
       "2   80   77   78   86   27   56   80  \n",
       "3   57   44   54   57   57   60   59  \n",
       "4   66   44   60   64   60   66   65  \n",
       "\n",
       "[5 rows x 53 columns]"
      ]
     },
     "execution_count": 4,
     "metadata": {},
     "output_type": "execute_result"
    }
   ],
   "source": [
    "numeric = data.select_dtypes(include = np.number)\n",
    "numeric.head()"
   ]
  },
  {
   "cell_type": "code",
   "execution_count": 5,
   "id": "3aaa8c67",
   "metadata": {},
   "outputs": [
    {
     "data": {
      "text/html": [
       "<div>\n",
       "<style scoped>\n",
       "    .dataframe tbody tr th:only-of-type {\n",
       "        vertical-align: middle;\n",
       "    }\n",
       "\n",
       "    .dataframe tbody tr th {\n",
       "        vertical-align: top;\n",
       "    }\n",
       "\n",
       "    .dataframe thead th {\n",
       "        text-align: right;\n",
       "    }\n",
       "</style>\n",
       "<table border=\"1\" class=\"dataframe\">\n",
       "  <thead>\n",
       "    <tr style=\"text-align: right;\">\n",
       "      <th></th>\n",
       "      <th>name</th>\n",
       "      <th>nationality</th>\n",
       "      <th>club</th>\n",
       "      <th>bp</th>\n",
       "      <th>position</th>\n",
       "      <th>team &amp; contract</th>\n",
       "      <th>height</th>\n",
       "      <th>weight</th>\n",
       "      <th>foot</th>\n",
       "      <th>joined</th>\n",
       "      <th>...</th>\n",
       "      <th>ldm</th>\n",
       "      <th>cdm</th>\n",
       "      <th>rdm</th>\n",
       "      <th>rwb</th>\n",
       "      <th>lb</th>\n",
       "      <th>lcb</th>\n",
       "      <th>cb</th>\n",
       "      <th>rcb</th>\n",
       "      <th>rb</th>\n",
       "      <th>gk</th>\n",
       "    </tr>\n",
       "  </thead>\n",
       "  <tbody>\n",
       "    <tr>\n",
       "      <th>0</th>\n",
       "      <td>A. Pasche</td>\n",
       "      <td>Switzerland</td>\n",
       "      <td>FC Lausanne-Sport</td>\n",
       "      <td>CM</td>\n",
       "      <td>CM CDM</td>\n",
       "      <td>FC Lausanne-Sport 2015 ~ 2020</td>\n",
       "      <td>5'9\"</td>\n",
       "      <td>161lbs</td>\n",
       "      <td>Right</td>\n",
       "      <td>Jul 1, 2015</td>\n",
       "      <td>...</td>\n",
       "      <td>59+1</td>\n",
       "      <td>59+1</td>\n",
       "      <td>59+1</td>\n",
       "      <td>59+1</td>\n",
       "      <td>58+1</td>\n",
       "      <td>54+1</td>\n",
       "      <td>54+1</td>\n",
       "      <td>54+1</td>\n",
       "      <td>58+1</td>\n",
       "      <td>15+1</td>\n",
       "    </tr>\n",
       "    <tr>\n",
       "      <th>1</th>\n",
       "      <td>Alan Carvalho</td>\n",
       "      <td>China PR</td>\n",
       "      <td>Beijing Sinobo Guoan FC</td>\n",
       "      <td>ST</td>\n",
       "      <td>ST LW LM</td>\n",
       "      <td>Beijing Sinobo Guoan FC Dec 31, 2020 On Loan</td>\n",
       "      <td>6'0\"</td>\n",
       "      <td>159lbs</td>\n",
       "      <td>Right</td>\n",
       "      <td>Jan 16, 2015</td>\n",
       "      <td>...</td>\n",
       "      <td>53+2</td>\n",
       "      <td>53+2</td>\n",
       "      <td>53+2</td>\n",
       "      <td>57+2</td>\n",
       "      <td>53+2</td>\n",
       "      <td>48+2</td>\n",
       "      <td>48+2</td>\n",
       "      <td>48+2</td>\n",
       "      <td>53+2</td>\n",
       "      <td>18+2</td>\n",
       "    </tr>\n",
       "    <tr>\n",
       "      <th>2</th>\n",
       "      <td>S. Giovinco</td>\n",
       "      <td>Italy</td>\n",
       "      <td>Al Hilal</td>\n",
       "      <td>CAM</td>\n",
       "      <td>CAM CF</td>\n",
       "      <td>Al Hilal 2019 ~ 2022</td>\n",
       "      <td>5'4\"</td>\n",
       "      <td>134lbs</td>\n",
       "      <td>Right</td>\n",
       "      <td>Jan 31, 2019</td>\n",
       "      <td>...</td>\n",
       "      <td>56+2</td>\n",
       "      <td>56+2</td>\n",
       "      <td>56+2</td>\n",
       "      <td>59+2</td>\n",
       "      <td>53+2</td>\n",
       "      <td>41+2</td>\n",
       "      <td>41+2</td>\n",
       "      <td>41+2</td>\n",
       "      <td>53+2</td>\n",
       "      <td>12+2</td>\n",
       "    </tr>\n",
       "    <tr>\n",
       "      <th>3</th>\n",
       "      <td>J. Evans</td>\n",
       "      <td>Wales</td>\n",
       "      <td>Swansea City</td>\n",
       "      <td>CDM</td>\n",
       "      <td>CDM CM</td>\n",
       "      <td>Swansea City 2016 ~ 2021</td>\n",
       "      <td>5'10\"</td>\n",
       "      <td>152lbs</td>\n",
       "      <td>Right</td>\n",
       "      <td>Jul 1, 2016</td>\n",
       "      <td>...</td>\n",
       "      <td>58+2</td>\n",
       "      <td>58+2</td>\n",
       "      <td>58+2</td>\n",
       "      <td>56+2</td>\n",
       "      <td>57+2</td>\n",
       "      <td>58+2</td>\n",
       "      <td>58+2</td>\n",
       "      <td>58+2</td>\n",
       "      <td>57+2</td>\n",
       "      <td>14+2</td>\n",
       "    </tr>\n",
       "    <tr>\n",
       "      <th>4</th>\n",
       "      <td>Y. Demoncy</td>\n",
       "      <td>France</td>\n",
       "      <td>US Orléans Loiret Football</td>\n",
       "      <td>CDM</td>\n",
       "      <td>CDM CM</td>\n",
       "      <td>US Orléans Loiret Football 2018 ~ 2021</td>\n",
       "      <td>5'11\"</td>\n",
       "      <td>150lbs</td>\n",
       "      <td>Right</td>\n",
       "      <td>Jul 1, 2018</td>\n",
       "      <td>...</td>\n",
       "      <td>64+2</td>\n",
       "      <td>64+2</td>\n",
       "      <td>64+2</td>\n",
       "      <td>64+2</td>\n",
       "      <td>63+2</td>\n",
       "      <td>61+2</td>\n",
       "      <td>61+2</td>\n",
       "      <td>61+2</td>\n",
       "      <td>63+2</td>\n",
       "      <td>15+2</td>\n",
       "    </tr>\n",
       "  </tbody>\n",
       "</table>\n",
       "<p>5 rows × 48 columns</p>\n",
       "</div>"
      ],
      "text/plain": [
       "            name  nationality                        club   bp  position  \\\n",
       "0      A. Pasche  Switzerland           FC Lausanne-Sport   CM    CM CDM   \n",
       "1  Alan Carvalho     China PR     Beijing Sinobo Guoan FC   ST  ST LW LM   \n",
       "2    S. Giovinco        Italy                    Al Hilal  CAM    CAM CF   \n",
       "3       J. Evans        Wales                Swansea City  CDM    CDM CM   \n",
       "4     Y. Demoncy       France  US Orléans Loiret Football  CDM    CDM CM   \n",
       "\n",
       "                                team & contract height  weight   foot  \\\n",
       "0                 FC Lausanne-Sport 2015 ~ 2020   5'9\"  161lbs  Right   \n",
       "1  Beijing Sinobo Guoan FC Dec 31, 2020 On Loan   6'0\"  159lbs  Right   \n",
       "2                          Al Hilal 2019 ~ 2022   5'4\"  134lbs  Right   \n",
       "3                      Swansea City 2016 ~ 2021  5'10\"  152lbs  Right   \n",
       "4        US Orléans Loiret Football 2018 ~ 2021  5'11\"  150lbs  Right   \n",
       "\n",
       "         joined  ...   ldm   cdm   rdm   rwb    lb   lcb    cb   rcb    rb  \\\n",
       "0   Jul 1, 2015  ...  59+1  59+1  59+1  59+1  58+1  54+1  54+1  54+1  58+1   \n",
       "1  Jan 16, 2015  ...  53+2  53+2  53+2  57+2  53+2  48+2  48+2  48+2  53+2   \n",
       "2  Jan 31, 2019  ...  56+2  56+2  56+2  59+2  53+2  41+2  41+2  41+2  53+2   \n",
       "3   Jul 1, 2016  ...  58+2  58+2  58+2  56+2  57+2  58+2  58+2  58+2  57+2   \n",
       "4   Jul 1, 2018  ...  64+2  64+2  64+2  64+2  63+2  61+2  61+2  61+2  63+2   \n",
       "\n",
       "     gk  \n",
       "0  15+1  \n",
       "1  18+2  \n",
       "2  12+2  \n",
       "3  14+2  \n",
       "4  15+2  \n",
       "\n",
       "[5 rows x 48 columns]"
      ]
     },
     "execution_count": 5,
     "metadata": {},
     "output_type": "execute_result"
    }
   ],
   "source": [
    "categorical = data.select_dtypes(include = object)\n",
    "categorical.head()"
   ]
  },
  {
   "cell_type": "code",
   "execution_count": 6,
   "id": "5bf46812",
   "metadata": {},
   "outputs": [
    {
     "data": {
      "text/plain": [
       "name                   0\n",
       "nationality            0\n",
       "club                  18\n",
       "bp                     0\n",
       "position             288\n",
       "team & contract        0\n",
       "height                 0\n",
       "weight                 0\n",
       "foot                   0\n",
       "joined                41\n",
       "loan date end      11072\n",
       "value                  0\n",
       "wage                   0\n",
       "release clause         0\n",
       "contract               0\n",
       "w/f                    0\n",
       "sm                     0\n",
       "a/w                   59\n",
       "d/w                   59\n",
       "ir                     0\n",
       "hits                   0\n",
       "ls                     0\n",
       "st                     0\n",
       "rs                     0\n",
       "lw                     0\n",
       "lf                     0\n",
       "cf                     0\n",
       "rf                     0\n",
       "rw                     0\n",
       "lam                    0\n",
       "cam                    0\n",
       "ram                    0\n",
       "lm                     0\n",
       "lcm                    0\n",
       "cm                     0\n",
       "rcm                    0\n",
       "rm                     0\n",
       "lwb                    0\n",
       "ldm                    0\n",
       "cdm                    0\n",
       "rdm                    0\n",
       "rwb                    0\n",
       "lb                     0\n",
       "lcb                    0\n",
       "cb                     0\n",
       "rcb                    0\n",
       "rb                     0\n",
       "gk                     0\n",
       "dtype: int64"
      ]
     },
     "execution_count": 6,
     "metadata": {},
     "output_type": "execute_result"
    }
   ],
   "source": [
    "categorical.isna().sum()"
   ]
  },
  {
   "cell_type": "code",
   "execution_count": 7,
   "id": "5393a48d",
   "metadata": {},
   "outputs": [
    {
     "data": {
      "text/plain": [
       "OGC Nice          35\n",
       "Crystal Palace    35\n",
       "Everton           35\n",
       "Chelsea           33\n",
       "Sporting CP       33\n",
       "                  ..\n",
       "GIF Sundsvall      1\n",
       "FC Orenburg        1\n",
       "Germany            1\n",
       "LKS Lodz           1\n",
       "Santo André        1\n",
       "Name: club, Length: 885, dtype: int64"
      ]
     },
     "execution_count": 7,
     "metadata": {},
     "output_type": "execute_result"
    }
   ],
   "source": [
    "categorical['club'].value_counts()"
   ]
  },
  {
   "cell_type": "code",
   "execution_count": 8,
   "id": "ac5f61ef",
   "metadata": {},
   "outputs": [
    {
     "name": "stderr",
     "output_type": "stream",
     "text": [
      "C:\\Users\\KIMERA\\AppData\\Local\\Temp/ipykernel_16820/1969520170.py:2: SettingWithCopyWarning: \n",
      "A value is trying to be set on a copy of a slice from a DataFrame.\n",
      "Try using .loc[row_indexer,col_indexer] = value instead\n",
      "\n",
      "See the caveats in the documentation: https://pandas.pydata.org/pandas-docs/stable/user_guide/indexing.html#returning-a-view-versus-a-copy\n",
      "  categorical['club'] = categorical['club'].fillna('free agent')\n"
     ]
    }
   ],
   "source": [
    "#FOR PLAYERS WHERE CLUBS IS NA, WE ARE CLASSIFYING THEM AS FREE AGENTS\n",
    "categorical['club'] = categorical['club'].fillna('free agent')"
   ]
  },
  {
   "cell_type": "code",
   "execution_count": 9,
   "id": "bef126a5",
   "metadata": {},
   "outputs": [
    {
     "data": {
      "text/plain": [
       "0"
      ]
     },
     "execution_count": 9,
     "metadata": {},
     "output_type": "execute_result"
    }
   ],
   "source": [
    "categorical['club'].isna().sum()"
   ]
  },
  {
   "cell_type": "code",
   "execution_count": 10,
   "id": "4cd2adeb",
   "metadata": {},
   "outputs": [
    {
     "data": {
      "text/plain": [
       "'CB'"
      ]
     },
     "execution_count": 10,
     "metadata": {},
     "output_type": "execute_result"
    }
   ],
   "source": [
    "#FILL THE POSITION NaN WITH MODE\n",
    "#WE SHALL CONSTRUCT A MODEL TO PREDICT THE PLAYER LATER\n",
    "mode = categorical['position'].mode()[0]\n",
    "mode\n",
    "#LINK:https://stackoverflow.com/questions/21082671/find-and-select-the-most-frequent-data-of-column-in-pandas-dataframe"
   ]
  },
  {
   "cell_type": "code",
   "execution_count": 11,
   "id": "b321d221",
   "metadata": {},
   "outputs": [
    {
     "name": "stderr",
     "output_type": "stream",
     "text": [
      "C:\\Users\\KIMERA\\AppData\\Local\\Temp/ipykernel_16820/2505189410.py:2: SettingWithCopyWarning: \n",
      "A value is trying to be set on a copy of a slice from a DataFrame.\n",
      "Try using .loc[row_indexer,col_indexer] = value instead\n",
      "\n",
      "See the caveats in the documentation: https://pandas.pydata.org/pandas-docs/stable/user_guide/indexing.html#returning-a-view-versus-a-copy\n",
      "  categorical['position'] = categorical['position'].fillna(mode)\n"
     ]
    }
   ],
   "source": [
    "#REPLACE NaN IN POSITION COLUMN WITH MODE\n",
    "categorical['position'] = categorical['position'].fillna(mode)"
   ]
  },
  {
   "cell_type": "code",
   "execution_count": 12,
   "id": "ab3428ab",
   "metadata": {},
   "outputs": [
    {
     "data": {
      "text/plain": [
       "0"
      ]
     },
     "execution_count": 12,
     "metadata": {},
     "output_type": "execute_result"
    }
   ],
   "source": [
    "#CHECKING FOR NaN IN POSITION COLUMN\n",
    "categorical['position'].isna().sum()"
   ]
  },
  {
   "cell_type": "code",
   "execution_count": 13,
   "id": "f265de1f",
   "metadata": {},
   "outputs": [
    {
     "data": {
      "text/plain": [
       "datetime.date(2020, 9, 1)"
      ]
     },
     "metadata": {},
     "output_type": "display_data"
    },
    {
     "name": "stderr",
     "output_type": "stream",
     "text": [
      "C:\\Users\\KIMERA\\AppData\\Local\\Temp/ipykernel_16820/2129599596.py:7: SettingWithCopyWarning: \n",
      "A value is trying to be set on a copy of a slice from a DataFrame.\n",
      "Try using .loc[row_indexer,col_indexer] = value instead\n",
      "\n",
      "See the caveats in the documentation: https://pandas.pydata.org/pandas-docs/stable/user_guide/indexing.html#returning-a-view-versus-a-copy\n",
      "  categorical['joined'] = categorical['joined'].fillna(first_day.strftime('%b %d, %Y'))\n"
     ]
    }
   ],
   "source": [
    "#SET NAN IN JOINED DATE TO 1ST SEPTEMBER 2020\n",
    "#REASON: FiFA 21 is released usually in the second week of September or October. They usually stop collecting data on 1st September.\n",
    "#So players who change clubs after that may not be updated in the game data\n",
    "#SET DATE TO THE 1st DAY OF SEPTEMBER\n",
    "first_day = datetime.date(2020, 9, 1)\n",
    "display(first_day)\n",
    "categorical['joined'] = categorical['joined'].fillna(first_day.strftime('%b %d, %Y'))"
   ]
  },
  {
   "cell_type": "code",
   "execution_count": 14,
   "id": "7a900e9d",
   "metadata": {},
   "outputs": [
    {
     "data": {
      "text/plain": [
       "0"
      ]
     },
     "execution_count": 14,
     "metadata": {},
     "output_type": "execute_result"
    }
   ],
   "source": [
    "categorical['joined'].isna().sum()"
   ]
  },
  {
   "cell_type": "code",
   "execution_count": 15,
   "id": "f0e46bf9",
   "metadata": {},
   "outputs": [
    {
     "data": {
      "text/plain": [
       "11072"
      ]
     },
     "metadata": {},
     "output_type": "display_data"
    },
    {
     "data": {
      "text/plain": [
       "94.62439107768567"
      ]
     },
     "execution_count": 15,
     "metadata": {},
     "output_type": "execute_result"
    }
   ],
   "source": [
    "#GETTING RATIO OF NaN TO ACTUAL VALUES IN THE 'Loan Date End' COLUMN TO LENGTH OF DF\n",
    "display(categorical['loan date end'].isna().sum())\n",
    "perc = (categorical['loan date end'].isna().sum()/data.shape[0]) * 100\n",
    "perc"
   ]
  },
  {
   "cell_type": "code",
   "execution_count": 16,
   "id": "dccaa13c",
   "metadata": {},
   "outputs": [
    {
     "data": {
      "text/plain": [
       "Index(['name', 'nationality', 'club', 'bp', 'position', 'team & contract',\n",
       "       'height', 'weight', 'foot', 'joined', 'value', 'wage', 'release clause',\n",
       "       'contract', 'w/f', 'sm', 'a/w', 'd/w', 'ir', 'hits', 'ls', 'st', 'rs',\n",
       "       'lw', 'lf', 'cf', 'rf', 'rw', 'lam', 'cam', 'ram', 'lm', 'lcm', 'cm',\n",
       "       'rcm', 'rm', 'lwb', 'ldm', 'cdm', 'rdm', 'rwb', 'lb', 'lcb', 'cb',\n",
       "       'rcb', 'rb', 'gk'],\n",
       "      dtype='object')"
      ]
     },
     "execution_count": 16,
     "metadata": {},
     "output_type": "execute_result"
    }
   ],
   "source": [
    "#OVER 94% OF THE VALUES IN THE 'Loan Date End' ARE NaN. SO, WE ARE DROPPING IT\n",
    "categorical = categorical.drop(['loan date end'], axis = 1)\n",
    "categorical.columns"
   ]
  },
  {
   "cell_type": "code",
   "execution_count": 17,
   "id": "aadbd200",
   "metadata": {},
   "outputs": [],
   "source": [
    "# d = pd.Period('Dec 01, 2021',freq='M').end_time.date() \n",
    "# print(d)   "
   ]
  },
  {
   "cell_type": "code",
   "execution_count": 18,
   "id": "5a8c0570",
   "metadata": {},
   "outputs": [
    {
     "data": {
      "text/plain": [
       "82"
      ]
     },
     "execution_count": 18,
     "metadata": {},
     "output_type": "execute_result"
    }
   ],
   "source": [
    "x = '80 + 2'\n",
    "y = int(x.split('+')[0]) + int(x.split('+')[1])\n",
    "y"
   ]
  },
  {
   "cell_type": "code",
   "execution_count": 19,
   "id": "295d94ed",
   "metadata": {},
   "outputs": [
    {
     "data": {
      "text/plain": [
       "id                    0\n",
       "age                   0\n",
       "growth                0\n",
       "attacking             0\n",
       "crossing              0\n",
       "finishing             0\n",
       "heading accuracy      0\n",
       "short passing         0\n",
       "volleys              41\n",
       "skill                 0\n",
       "dribbling             0\n",
       "curve                41\n",
       "fk accuracy           0\n",
       "long passing          0\n",
       "ball control          0\n",
       "movement              0\n",
       "acceleration          0\n",
       "sprint speed          0\n",
       "agility              41\n",
       "reactions             0\n",
       "balance              41\n",
       "power                 0\n",
       "shot power            0\n",
       "jumping              41\n",
       "stamina               0\n",
       "strength              0\n",
       "long shots            0\n",
       "mentality             0\n",
       "aggression            0\n",
       "interceptions         7\n",
       "positioning           7\n",
       "vision               41\n",
       "penalties             0\n",
       "composure           279\n",
       "defending             0\n",
       "marking               0\n",
       "standing tackle       0\n",
       "sliding tackle       41\n",
       "goalkeeping           0\n",
       "gk diving             0\n",
       "gk handling           0\n",
       "gk kicking            0\n",
       "gk positioning        0\n",
       "gk reflexes           0\n",
       "total stats           0\n",
       "base stats            0\n",
       "pac                   0\n",
       "sho                   0\n",
       "pas                   0\n",
       "dri                   0\n",
       "def                   0\n",
       "phy                   0\n",
       "ova                   0\n",
       "dtype: int64"
      ]
     },
     "execution_count": 19,
     "metadata": {},
     "output_type": "execute_result"
    }
   ],
   "source": [
    "numeric.isna().sum()"
   ]
  },
  {
   "cell_type": "code",
   "execution_count": 20,
   "id": "3f1661b9",
   "metadata": {},
   "outputs": [
    {
     "data": {
      "text/plain": [
       "CB           1352\n",
       "ST           1267\n",
       "GK           1040\n",
       "CDM CM        515\n",
       "CM            449\n",
       "             ... \n",
       "RB CM CAM       1\n",
       "CF RM RW        1\n",
       "LB LWB RB       1\n",
       "LB CM LW        1\n",
       "RW LM CAM       1\n",
       "Name: position, Length: 543, dtype: int64"
      ]
     },
     "execution_count": 20,
     "metadata": {},
     "output_type": "execute_result"
    }
   ],
   "source": [
    "#REPLACE THE NaN WITH THE AVERAGE OF ALL PLAYERS IN SIMILAR POSITION\n",
    "data['position'].value_counts()"
   ]
  },
  {
   "cell_type": "code",
   "execution_count": 21,
   "id": "7b44faa7",
   "metadata": {},
   "outputs": [
    {
     "data": {
      "text/plain": [
       "41"
      ]
     },
     "execution_count": 21,
     "metadata": {},
     "output_type": "execute_result"
    }
   ],
   "source": [
    "numeric['jumping'].isna().sum()"
   ]
  },
  {
   "cell_type": "code",
   "execution_count": 22,
   "id": "82ffb9a0",
   "metadata": {},
   "outputs": [
    {
     "data": {
      "text/plain": [
       "['volleys',\n",
       " 'curve',\n",
       " 'agility',\n",
       " 'balance',\n",
       " 'jumping',\n",
       " 'interceptions',\n",
       " 'positioning',\n",
       " 'vision',\n",
       " 'composure',\n",
       " 'sliding tackle']"
      ]
     },
     "execution_count": 22,
     "metadata": {},
     "output_type": "execute_result"
    }
   ],
   "source": [
    "# GET A LIST OF ALL COLS WITH NaN VALUES IN THE NUMERIC DATAFRAME\n",
    "NaN_col_list = []\n",
    "for col in numeric.columns:\n",
    "    if numeric[col].isna().sum() != 0:\n",
    "        NaN_col_list.append(col)\n",
    "NaN_col_list        "
   ]
  },
  {
   "cell_type": "code",
   "execution_count": 23,
   "id": "a88e7cc7",
   "metadata": {},
   "outputs": [
    {
     "name": "stderr",
     "output_type": "stream",
     "text": [
      "C:\\Users\\KIMERA\\AppData\\Local\\Temp/ipykernel_16820/252384581.py:6: SettingWithCopyWarning: \n",
      "A value is trying to be set on a copy of a slice from a DataFrame.\n",
      "Try using .loc[row_indexer,col_indexer] = value instead\n",
      "\n",
      "See the caveats in the documentation: https://pandas.pydata.org/pandas-docs/stable/user_guide/indexing.html#returning-a-view-versus-a-copy\n",
      "  numeric[colx] = numeric[colx].fillna(mean)\n"
     ]
    }
   ],
   "source": [
    "#REPLACE ALL NaN VALUES WITH THE MEAN\n",
    "for colx in NaN_col_list:\n",
    "    mean = np.mean(numeric[colx])\n",
    "    mean = math.ceil(mean)\n",
    "    #display(mean)\n",
    "    numeric[colx] = numeric[colx].fillna(mean)"
   ]
  },
  {
   "cell_type": "code",
   "execution_count": 24,
   "id": "e2d1915a",
   "metadata": {},
   "outputs": [
    {
     "data": {
      "text/plain": [
       "id                  0\n",
       "age                 0\n",
       "growth              0\n",
       "attacking           0\n",
       "crossing            0\n",
       "finishing           0\n",
       "heading accuracy    0\n",
       "short passing       0\n",
       "volleys             0\n",
       "skill               0\n",
       "dribbling           0\n",
       "curve               0\n",
       "fk accuracy         0\n",
       "long passing        0\n",
       "ball control        0\n",
       "movement            0\n",
       "acceleration        0\n",
       "sprint speed        0\n",
       "agility             0\n",
       "reactions           0\n",
       "balance             0\n",
       "power               0\n",
       "shot power          0\n",
       "jumping             0\n",
       "stamina             0\n",
       "strength            0\n",
       "long shots          0\n",
       "mentality           0\n",
       "aggression          0\n",
       "interceptions       0\n",
       "positioning         0\n",
       "vision              0\n",
       "penalties           0\n",
       "composure           0\n",
       "defending           0\n",
       "marking             0\n",
       "standing tackle     0\n",
       "sliding tackle      0\n",
       "goalkeeping         0\n",
       "gk diving           0\n",
       "gk handling         0\n",
       "gk kicking          0\n",
       "gk positioning      0\n",
       "gk reflexes         0\n",
       "total stats         0\n",
       "base stats          0\n",
       "pac                 0\n",
       "sho                 0\n",
       "pas                 0\n",
       "dri                 0\n",
       "def                 0\n",
       "phy                 0\n",
       "ova                 0\n",
       "dtype: int64"
      ]
     },
     "execution_count": 24,
     "metadata": {},
     "output_type": "execute_result"
    }
   ],
   "source": [
    "numeric.isna().sum()"
   ]
  },
  {
   "cell_type": "code",
   "execution_count": 25,
   "id": "dcee7ca2",
   "metadata": {},
   "outputs": [
    {
     "name": "stdout",
     "output_type": "stream",
     "text": [
      "(11701, 53)\n"
     ]
    },
    {
     "data": {
      "text/html": [
       "<div>\n",
       "<style scoped>\n",
       "    .dataframe tbody tr th:only-of-type {\n",
       "        vertical-align: middle;\n",
       "    }\n",
       "\n",
       "    .dataframe tbody tr th {\n",
       "        vertical-align: top;\n",
       "    }\n",
       "\n",
       "    .dataframe thead th {\n",
       "        text-align: right;\n",
       "    }\n",
       "</style>\n",
       "<table border=\"1\" class=\"dataframe\">\n",
       "  <thead>\n",
       "    <tr style=\"text-align: right;\">\n",
       "      <th></th>\n",
       "      <th>id</th>\n",
       "      <th>age</th>\n",
       "      <th>growth</th>\n",
       "      <th>attacking</th>\n",
       "      <th>crossing</th>\n",
       "      <th>finishing</th>\n",
       "      <th>heading accuracy</th>\n",
       "      <th>short passing</th>\n",
       "      <th>volleys</th>\n",
       "      <th>skill</th>\n",
       "      <th>...</th>\n",
       "      <th>gk reflexes</th>\n",
       "      <th>total stats</th>\n",
       "      <th>base stats</th>\n",
       "      <th>pac</th>\n",
       "      <th>sho</th>\n",
       "      <th>pas</th>\n",
       "      <th>dri</th>\n",
       "      <th>def</th>\n",
       "      <th>phy</th>\n",
       "      <th>ova</th>\n",
       "    </tr>\n",
       "  </thead>\n",
       "  <tbody>\n",
       "    <tr>\n",
       "      <th>0</th>\n",
       "      <td>0.711626</td>\n",
       "      <td>0.370370</td>\n",
       "      <td>0.074074</td>\n",
       "      <td>0.556931</td>\n",
       "      <td>0.545455</td>\n",
       "      <td>0.478261</td>\n",
       "      <td>0.431818</td>\n",
       "      <td>0.720930</td>\n",
       "      <td>0.465116</td>\n",
       "      <td>0.569087</td>\n",
       "      <td>...</td>\n",
       "      <td>0.056180</td>\n",
       "      <td>0.604577</td>\n",
       "      <td>0.492366</td>\n",
       "      <td>0.614286</td>\n",
       "      <td>0.447368</td>\n",
       "      <td>0.558824</td>\n",
       "      <td>0.522388</td>\n",
       "      <td>0.506494</td>\n",
       "      <td>0.500000</td>\n",
       "      <td>0.472727</td>\n",
       "    </tr>\n",
       "    <tr>\n",
       "      <th>1</th>\n",
       "      <td>0.725758</td>\n",
       "      <td>0.518519</td>\n",
       "      <td>0.037037</td>\n",
       "      <td>0.821782</td>\n",
       "      <td>0.681818</td>\n",
       "      <td>0.826087</td>\n",
       "      <td>0.806818</td>\n",
       "      <td>0.697674</td>\n",
       "      <td>0.837209</td>\n",
       "      <td>0.777518</td>\n",
       "      <td>...</td>\n",
       "      <td>0.168539</td>\n",
       "      <td>0.781945</td>\n",
       "      <td>0.702290</td>\n",
       "      <td>0.814286</td>\n",
       "      <td>0.763158</td>\n",
       "      <td>0.632353</td>\n",
       "      <td>0.805970</td>\n",
       "      <td>0.272727</td>\n",
       "      <td>0.666667</td>\n",
       "      <td>0.709091</td>\n",
       "    </tr>\n",
       "    <tr>\n",
       "      <th>2</th>\n",
       "      <td>0.711811</td>\n",
       "      <td>0.629630</td>\n",
       "      <td>0.037037</td>\n",
       "      <td>0.750000</td>\n",
       "      <td>0.761364</td>\n",
       "      <td>0.793478</td>\n",
       "      <td>0.329545</td>\n",
       "      <td>0.813953</td>\n",
       "      <td>0.825581</td>\n",
       "      <td>0.892272</td>\n",
       "      <td>...</td>\n",
       "      <td>0.022472</td>\n",
       "      <td>0.759059</td>\n",
       "      <td>0.671756</td>\n",
       "      <td>0.771429</td>\n",
       "      <td>0.789474</td>\n",
       "      <td>0.779412</td>\n",
       "      <td>0.865672</td>\n",
       "      <td>0.194805</td>\n",
       "      <td>0.439394</td>\n",
       "      <td>0.763636</td>\n",
       "    </tr>\n",
       "    <tr>\n",
       "      <th>3</th>\n",
       "      <td>0.902364</td>\n",
       "      <td>0.222222</td>\n",
       "      <td>0.518519</td>\n",
       "      <td>0.517327</td>\n",
       "      <td>0.431818</td>\n",
       "      <td>0.423913</td>\n",
       "      <td>0.602273</td>\n",
       "      <td>0.627907</td>\n",
       "      <td>0.372093</td>\n",
       "      <td>0.505855</td>\n",
       "      <td>...</td>\n",
       "      <td>0.123596</td>\n",
       "      <td>0.506039</td>\n",
       "      <td>0.385496</td>\n",
       "      <td>0.442857</td>\n",
       "      <td>0.355263</td>\n",
       "      <td>0.426471</td>\n",
       "      <td>0.432836</td>\n",
       "      <td>0.584416</td>\n",
       "      <td>0.500000</td>\n",
       "      <td>0.381818</td>\n",
       "    </tr>\n",
       "    <tr>\n",
       "      <th>4</th>\n",
       "      <td>0.906235</td>\n",
       "      <td>0.259259</td>\n",
       "      <td>0.333333</td>\n",
       "      <td>0.534653</td>\n",
       "      <td>0.488636</td>\n",
       "      <td>0.369565</td>\n",
       "      <td>0.636364</td>\n",
       "      <td>0.697674</td>\n",
       "      <td>0.348837</td>\n",
       "      <td>0.555035</td>\n",
       "      <td>...</td>\n",
       "      <td>0.157303</td>\n",
       "      <td>0.593134</td>\n",
       "      <td>0.503817</td>\n",
       "      <td>0.571429</td>\n",
       "      <td>0.355263</td>\n",
       "      <td>0.514706</td>\n",
       "      <td>0.537313</td>\n",
       "      <td>0.623377</td>\n",
       "      <td>0.590909</td>\n",
       "      <td>0.490909</td>\n",
       "    </tr>\n",
       "  </tbody>\n",
       "</table>\n",
       "<p>5 rows × 53 columns</p>\n",
       "</div>"
      ],
      "text/plain": [
       "         id       age    growth  attacking  crossing  finishing  \\\n",
       "0  0.711626  0.370370  0.074074   0.556931  0.545455   0.478261   \n",
       "1  0.725758  0.518519  0.037037   0.821782  0.681818   0.826087   \n",
       "2  0.711811  0.629630  0.037037   0.750000  0.761364   0.793478   \n",
       "3  0.902364  0.222222  0.518519   0.517327  0.431818   0.423913   \n",
       "4  0.906235  0.259259  0.333333   0.534653  0.488636   0.369565   \n",
       "\n",
       "   heading accuracy  short passing   volleys     skill  ...  gk reflexes  \\\n",
       "0          0.431818       0.720930  0.465116  0.569087  ...     0.056180   \n",
       "1          0.806818       0.697674  0.837209  0.777518  ...     0.168539   \n",
       "2          0.329545       0.813953  0.825581  0.892272  ...     0.022472   \n",
       "3          0.602273       0.627907  0.372093  0.505855  ...     0.123596   \n",
       "4          0.636364       0.697674  0.348837  0.555035  ...     0.157303   \n",
       "\n",
       "   total stats  base stats       pac       sho       pas       dri       def  \\\n",
       "0     0.604577    0.492366  0.614286  0.447368  0.558824  0.522388  0.506494   \n",
       "1     0.781945    0.702290  0.814286  0.763158  0.632353  0.805970  0.272727   \n",
       "2     0.759059    0.671756  0.771429  0.789474  0.779412  0.865672  0.194805   \n",
       "3     0.506039    0.385496  0.442857  0.355263  0.426471  0.432836  0.584416   \n",
       "4     0.593134    0.503817  0.571429  0.355263  0.514706  0.537313  0.623377   \n",
       "\n",
       "        phy       ova  \n",
       "0  0.500000  0.472727  \n",
       "1  0.666667  0.709091  \n",
       "2  0.439394  0.763636  \n",
       "3  0.500000  0.381818  \n",
       "4  0.590909  0.490909  \n",
       "\n",
       "[5 rows x 53 columns]"
      ]
     },
     "execution_count": 25,
     "metadata": {},
     "output_type": "execute_result"
    }
   ],
   "source": [
    "#STANDARDISE ALL NUMERIC VALUES WITH THE MeanMaxScalar\n",
    "from sklearn.preprocessing import MinMaxScaler\n",
    "kimera = MinMaxScaler().fit(numeric)\n",
    "x_normalized = kimera.transform(numeric)\n",
    "print(x_normalized.shape)\n",
    "x_normalized = pd.DataFrame(x_normalized,columns=numeric.columns)\n",
    "x_normalized.head()"
   ]
  },
  {
   "cell_type": "code",
   "execution_count": 26,
   "id": "6d5f2add",
   "metadata": {},
   "outputs": [
    {
     "data": {
      "text/plain": [
       "Index(['name', 'nationality', 'club', 'bp', 'position', 'team & contract',\n",
       "       'height', 'weight', 'foot', 'joined', 'value', 'wage', 'release clause',\n",
       "       'contract', 'w/f', 'sm', 'a/w', 'd/w', 'ir', 'hits', 'ls', 'st', 'rs',\n",
       "       'lw', 'lf', 'cf', 'rf', 'rw', 'lam', 'cam', 'ram', 'lm', 'lcm', 'cm',\n",
       "       'rcm', 'rm', 'lwb', 'ldm', 'cdm', 'rdm', 'rwb', 'lb', 'lcb', 'cb',\n",
       "       'rcb', 'rb', 'gk'],\n",
       "      dtype='object')"
      ]
     },
     "execution_count": 26,
     "metadata": {},
     "output_type": "execute_result"
    }
   ],
   "source": [
    "categorical.columns"
   ]
  },
  {
   "cell_type": "code",
   "execution_count": 27,
   "id": "cc138b67",
   "metadata": {},
   "outputs": [],
   "source": [
    "# GET ONLY RELEVANT COLUMNS FROM THE CATEGORICAL DATAFRAMES\n",
    "# ALOT OF COLUMNS IN THE DATAFRAME ARE NOT RELEVANT TO THE PLAYER'S OVERALL RATING\n",
    "# COLUMNS LIKE CLUB, NATIONALITY, TEAM & COUNTRY HAVE NO IMPACT ON THE PLAYER'S OVERALL RATINGS\n",
    "categorical = categorical[['position','height','weight','foot']]"
   ]
  },
  {
   "cell_type": "code",
   "execution_count": 28,
   "id": "36dddb92",
   "metadata": {},
   "outputs": [
    {
     "data": {
      "text/plain": [
       "CB           1640\n",
       "ST           1267\n",
       "GK           1040\n",
       "CDM CM        515\n",
       "CM            449\n",
       "             ... \n",
       "RB CM CAM       1\n",
       "CF RM RW        1\n",
       "LB LWB RB       1\n",
       "LB CM LW        1\n",
       "RW LM CAM       1\n",
       "Name: position, Length: 543, dtype: int64"
      ]
     },
     "metadata": {},
     "output_type": "display_data"
    },
    {
     "data": {
      "text/plain": [
       "6'0\"     1751\n",
       "5'10\"    1636\n",
       "5'9\"     1401\n",
       "5'11\"    1314\n",
       "6'2\"     1261\n",
       "6'1\"     1257\n",
       "6'3\"      659\n",
       "5'8\"      657\n",
       "5'7\"      614\n",
       "6'4\"      497\n",
       "5'6\"      209\n",
       "6'5\"      178\n",
       "5'5\"      129\n",
       "6'6\"       75\n",
       "5'4\"       19\n",
       "6'7\"       19\n",
       "6'8\"       10\n",
       "5'3\"        9\n",
       "5'2\"        3\n",
       "5'1\"        2\n",
       "6'9\"        1\n",
       "Name: height, dtype: int64"
      ]
     },
     "metadata": {},
     "output_type": "display_data"
    },
    {
     "data": {
      "text/plain": [
       "154lbs    931\n",
       "165lbs    871\n",
       "176lbs    694\n",
       "159lbs    651\n",
       "172lbs    626\n",
       "161lbs    605\n",
       "163lbs    573\n",
       "168lbs    555\n",
       "170lbs    506\n",
       "150lbs    453\n",
       "157lbs    425\n",
       "174lbs    406\n",
       "181lbs    396\n",
       "143lbs    338\n",
       "183lbs    332\n",
       "152lbs    324\n",
       "179lbs    312\n",
       "148lbs    295\n",
       "185lbs    271\n",
       "187lbs    262\n",
       "146lbs    244\n",
       "141lbs    207\n",
       "190lbs    175\n",
       "194lbs    159\n",
       "139lbs    150\n",
       "192lbs    125\n",
       "198lbs    110\n",
       "137lbs    106\n",
       "132lbs    105\n",
       "196lbs     91\n",
       "134lbs     82\n",
       "201lbs     56\n",
       "203lbs     48\n",
       "205lbs     33\n",
       "209lbs     32\n",
       "128lbs     29\n",
       "207lbs     26\n",
       "130lbs     19\n",
       "126lbs     11\n",
       "212lbs     11\n",
       "214lbs     10\n",
       "123lbs      9\n",
       "216lbs      8\n",
       "121lbs      7\n",
       "220lbs      5\n",
       "225lbs      4\n",
       "218lbs      3\n",
       "227lbs      2\n",
       "223lbs      2\n",
       "117lbs      1\n",
       "236lbs      1\n",
       "243lbs      1\n",
       "229lbs      1\n",
       "119lbs      1\n",
       "234lbs      1\n",
       "Name: weight, dtype: int64"
      ]
     },
     "metadata": {},
     "output_type": "display_data"
    },
    {
     "data": {
      "text/plain": [
       "Right    8828\n",
       "Left     2873\n",
       "Name: foot, dtype: int64"
      ]
     },
     "metadata": {},
     "output_type": "display_data"
    }
   ],
   "source": [
    "for coln in categorical.columns:\n",
    "    display(categorical[coln].value_counts())"
   ]
  },
  {
   "cell_type": "code",
   "execution_count": 29,
   "id": "f1e5b84f",
   "metadata": {},
   "outputs": [
    {
     "data": {
      "text/plain": [
       "CB      2139\n",
       "ST      1803\n",
       "CM      1310\n",
       "GK      1040\n",
       "CDM      878\n",
       "LB       839\n",
       "RB       821\n",
       "CAM      759\n",
       "LM       687\n",
       "RM       667\n",
       "LW       295\n",
       "RW       271\n",
       "CF        87\n",
       "RWB       53\n",
       "LWB       48\n",
       "ACB        1\n",
       "IVST       1\n",
       "IIRM       1\n",
       "ND         1\n",
       "Name: position, dtype: int64"
      ]
     },
     "metadata": {},
     "output_type": "display_data"
    }
   ],
   "source": [
    "categorical['position'] = categorical['position'].apply(lambda x: x.split(' ')[0])\n",
    "categorical['position']\n",
    "display(categorical['position'].value_counts())"
   ]
  },
  {
   "cell_type": "code",
   "execution_count": 30,
   "id": "2edf1617",
   "metadata": {},
   "outputs": [
    {
     "data": {
      "text/plain": [
       "CB     2139\n",
       "ST     1803\n",
       "CM     1310\n",
       "GK     1040\n",
       "CDM     878\n",
       "LB      839\n",
       "RB      821\n",
       "CAM     759\n",
       "LM      687\n",
       "RM      667\n",
       "LW      295\n",
       "RW      271\n",
       "CF       87\n",
       "RWB      53\n",
       "LWB      48\n",
       "Name: position, dtype: int64"
      ]
     },
     "metadata": {},
     "output_type": "display_data"
    }
   ],
   "source": [
    "#REMOVE ALL PLAYERS WHOSE POSITIONS DO NOT APPEAR AMONG THE PROVIDED POSITIONS\n",
    "#REASON: They are few - 4 players in total\n",
    "\n",
    "drop_list = ['ACB','IVST','IIRM','ND']\n",
    "for item in drop_list:\n",
    "    categorical = categorical.drop(categorical.loc[categorical['position']==item].index)\n",
    "display(categorical['position'].value_counts())"
   ]
  },
  {
   "cell_type": "code",
   "execution_count": 31,
   "id": "8ef0e486",
   "metadata": {},
   "outputs": [],
   "source": [
    "# THE COLUMNS NEED TO BE TREATED DIFFERENTLY. FOOT HAS TWO UNIQUE VALUES\n",
    "# WE NEED TO CONVERT WEIGHT TO INT OR FLOAT BECAUSE A PLAYER'S WEIGHT IS A NUMBER\n",
    "# CONVERT THE PLAYER'S HEIGHT TO METERS\n",
    "# PLAYER ARE GIVEN VARIOUS POSITIONAL COMBINTATIONS. I WILL TAKE THE FIRST POSITION AS THE PLAYER'S POSITION"
   ]
  },
  {
   "cell_type": "code",
   "execution_count": 32,
   "id": "27350e47",
   "metadata": {},
   "outputs": [
    {
     "data": {
      "text/plain": [
       "0        161\n",
       "1        159\n",
       "2        134\n",
       "3        152\n",
       "4        150\n",
       "        ... \n",
       "11696    168\n",
       "11697    174\n",
       "11698    143\n",
       "11699    179\n",
       "11700    143\n",
       "Name: weight, Length: 11697, dtype: int64"
      ]
     },
     "execution_count": 32,
     "metadata": {},
     "output_type": "execute_result"
    }
   ],
   "source": [
    "# CONVERT WEIGHT TO INTEGER BY REMOVING THE 'lbs' AT THE END AND CONVERT STRING INTO INT \n",
    "\n",
    "categorical['weight'] = categorical['weight'].apply(lambda x: int(x.replace('lbs', '')))\n",
    "categorical['weight']"
   ]
  },
  {
   "cell_type": "code",
   "execution_count": 33,
   "id": "08436e9b",
   "metadata": {},
   "outputs": [
    {
     "data": {
      "text/plain": [
       "0    1.75\n",
       "1    1.83\n",
       "2    1.63\n",
       "3    1.55\n",
       "4    1.55\n",
       "Name: height, dtype: float64"
      ]
     },
     "execution_count": 33,
     "metadata": {},
     "output_type": "execute_result"
    }
   ],
   "source": [
    "# CONVERT THE HEIGHT FROM STRING TO METERS\n",
    "# TO BE DONE LATER. REPLACING THE FEET & INCHES SIGNS IS PROVING VERY CHALLENGING\n",
    "# USE THE FIRST INTEGER\n",
    "ureg = pint.UnitRegistry()\n",
    "def replace_char(x):    \n",
    "    x = re.sub('[^a-zA-Z0-9 \\n\\.]', '', x)\n",
    "    if len(x) > 2:             \n",
    "        y = int(x[0]) * ureg.feet\n",
    "        z = int(x[-2]) * ureg.inch\n",
    "        x = round(y.to(ureg.meter) + z.to(ureg.meter),2)\n",
    "    \n",
    "    elif len(x) == 2:\n",
    "        y = int(x[0])* ureg.feet\n",
    "        z = int(x[-1]) * ureg.inch\n",
    "        x = round(y.to(ureg.meter) + z.to(ureg.meter),2)\n",
    "    return x.magnitude\n",
    "    #REMOVES THE meter AND RETURN THE MAGNITUDE ONLY\n",
    "\n",
    "categorical['height'] = categorical['height'].apply(lambda x: replace_char(x))\n",
    "categorical['height'].head()"
   ]
  },
  {
   "cell_type": "code",
   "execution_count": 34,
   "id": "c024360e",
   "metadata": {},
   "outputs": [
    {
     "name": "stdout",
     "output_type": "stream",
     "text": [
      "Index(['position', 'height', 'weight', 'foot'], dtype='object')\n"
     ]
    },
    {
     "data": {
      "text/plain": [
       "Right    8826\n",
       "Left     2871\n",
       "Name: foot, dtype: int64"
      ]
     },
     "execution_count": 34,
     "metadata": {},
     "output_type": "execute_result"
    }
   ],
   "source": [
    "print(categorical.columns)\n",
    "categorical['foot'].value_counts()"
   ]
  },
  {
   "cell_type": "code",
   "execution_count": 35,
   "id": "fc3bd34e",
   "metadata": {},
   "outputs": [
    {
     "data": {
      "text/plain": [
       "0    Right\n",
       "1    Right\n",
       "2    Right\n",
       "3    Right\n",
       "4    Right\n",
       "Name: foot, dtype: object"
      ]
     },
     "execution_count": 35,
     "metadata": {},
     "output_type": "execute_result"
    }
   ],
   "source": [
    "categorical['foot'].head()"
   ]
  },
  {
   "cell_type": "code",
   "execution_count": 36,
   "id": "6b1edd35",
   "metadata": {},
   "outputs": [],
   "source": [
    "# #FOOT HAS ONLY TWO UNIQUE VALUES. STANDARDISE USING ONE ENCODER\n",
    "# from sklearn.preprocessing import OneHotEncoder\n",
    "# #X_cat = categorical['foot']\n",
    "# encoder = OneHotEncoder().fit(categorical['foot'])\n",
    "# print(encoder)"
   ]
  },
  {
   "cell_type": "code",
   "execution_count": 37,
   "id": "ebc78eda",
   "metadata": {},
   "outputs": [
    {
     "data": {
      "text/plain": [
       "Index(['position', 'height', 'weight'], dtype='object')"
      ]
     },
     "execution_count": 37,
     "metadata": {},
     "output_type": "execute_result"
    }
   ],
   "source": [
    "# FOOT IS REMOVED BECAUSE OF THE FOLLOWING ERRORS\n",
    "# ValueError: Expected 2D array, got 1D array instead:\n",
    "# array=['Right' 'Right' 'Right' ... 'Right' 'Right' 'Left'].\n",
    "categorical = categorical.drop(['foot'], axis = 1)\n",
    "categorical.columns"
   ]
  },
  {
   "cell_type": "code",
   "execution_count": 38,
   "id": "7b2f6118",
   "metadata": {},
   "outputs": [
    {
     "data": {
      "text/html": [
       "<div>\n",
       "<style scoped>\n",
       "    .dataframe tbody tr th:only-of-type {\n",
       "        vertical-align: middle;\n",
       "    }\n",
       "\n",
       "    .dataframe tbody tr th {\n",
       "        vertical-align: top;\n",
       "    }\n",
       "\n",
       "    .dataframe thead th {\n",
       "        text-align: right;\n",
       "    }\n",
       "</style>\n",
       "<table border=\"1\" class=\"dataframe\">\n",
       "  <thead>\n",
       "    <tr style=\"text-align: right;\">\n",
       "      <th></th>\n",
       "      <th>id</th>\n",
       "      <th>age</th>\n",
       "      <th>growth</th>\n",
       "      <th>attacking</th>\n",
       "      <th>crossing</th>\n",
       "      <th>finishing</th>\n",
       "      <th>heading accuracy</th>\n",
       "      <th>short passing</th>\n",
       "      <th>volleys</th>\n",
       "      <th>skill</th>\n",
       "      <th>...</th>\n",
       "      <th>pac</th>\n",
       "      <th>sho</th>\n",
       "      <th>pas</th>\n",
       "      <th>dri</th>\n",
       "      <th>def</th>\n",
       "      <th>phy</th>\n",
       "      <th>ova</th>\n",
       "      <th>position</th>\n",
       "      <th>height</th>\n",
       "      <th>weight</th>\n",
       "    </tr>\n",
       "  </thead>\n",
       "  <tbody>\n",
       "    <tr>\n",
       "      <th>0</th>\n",
       "      <td>184383</td>\n",
       "      <td>26</td>\n",
       "      <td>1</td>\n",
       "      <td>258</td>\n",
       "      <td>54</td>\n",
       "      <td>47</td>\n",
       "      <td>43</td>\n",
       "      <td>70</td>\n",
       "      <td>44.0</td>\n",
       "      <td>286</td>\n",
       "      <td>...</td>\n",
       "      <td>69</td>\n",
       "      <td>51</td>\n",
       "      <td>63</td>\n",
       "      <td>63</td>\n",
       "      <td>51</td>\n",
       "      <td>60</td>\n",
       "      <td>64</td>\n",
       "      <td>CM</td>\n",
       "      <td>1.75</td>\n",
       "      <td>161.0</td>\n",
       "    </tr>\n",
       "    <tr>\n",
       "      <th>1</th>\n",
       "      <td>188044</td>\n",
       "      <td>30</td>\n",
       "      <td>0</td>\n",
       "      <td>365</td>\n",
       "      <td>66</td>\n",
       "      <td>79</td>\n",
       "      <td>76</td>\n",
       "      <td>68</td>\n",
       "      <td>76.0</td>\n",
       "      <td>375</td>\n",
       "      <td>...</td>\n",
       "      <td>83</td>\n",
       "      <td>75</td>\n",
       "      <td>68</td>\n",
       "      <td>82</td>\n",
       "      <td>33</td>\n",
       "      <td>71</td>\n",
       "      <td>77</td>\n",
       "      <td>ST</td>\n",
       "      <td>1.83</td>\n",
       "      <td>159.0</td>\n",
       "    </tr>\n",
       "    <tr>\n",
       "      <th>2</th>\n",
       "      <td>184431</td>\n",
       "      <td>33</td>\n",
       "      <td>0</td>\n",
       "      <td>336</td>\n",
       "      <td>73</td>\n",
       "      <td>76</td>\n",
       "      <td>34</td>\n",
       "      <td>78</td>\n",
       "      <td>75.0</td>\n",
       "      <td>424</td>\n",
       "      <td>...</td>\n",
       "      <td>80</td>\n",
       "      <td>77</td>\n",
       "      <td>78</td>\n",
       "      <td>86</td>\n",
       "      <td>27</td>\n",
       "      <td>56</td>\n",
       "      <td>80</td>\n",
       "      <td>CAM</td>\n",
       "      <td>1.63</td>\n",
       "      <td>134.0</td>\n",
       "    </tr>\n",
       "    <tr>\n",
       "      <th>3</th>\n",
       "      <td>233796</td>\n",
       "      <td>22</td>\n",
       "      <td>13</td>\n",
       "      <td>242</td>\n",
       "      <td>44</td>\n",
       "      <td>42</td>\n",
       "      <td>58</td>\n",
       "      <td>62</td>\n",
       "      <td>36.0</td>\n",
       "      <td>259</td>\n",
       "      <td>...</td>\n",
       "      <td>57</td>\n",
       "      <td>44</td>\n",
       "      <td>54</td>\n",
       "      <td>57</td>\n",
       "      <td>57</td>\n",
       "      <td>60</td>\n",
       "      <td>59</td>\n",
       "      <td>CDM</td>\n",
       "      <td>1.55</td>\n",
       "      <td>152.0</td>\n",
       "    </tr>\n",
       "    <tr>\n",
       "      <th>4</th>\n",
       "      <td>234799</td>\n",
       "      <td>23</td>\n",
       "      <td>8</td>\n",
       "      <td>249</td>\n",
       "      <td>49</td>\n",
       "      <td>37</td>\n",
       "      <td>61</td>\n",
       "      <td>68</td>\n",
       "      <td>34.0</td>\n",
       "      <td>280</td>\n",
       "      <td>...</td>\n",
       "      <td>66</td>\n",
       "      <td>44</td>\n",
       "      <td>60</td>\n",
       "      <td>64</td>\n",
       "      <td>60</td>\n",
       "      <td>66</td>\n",
       "      <td>65</td>\n",
       "      <td>CDM</td>\n",
       "      <td>1.55</td>\n",
       "      <td>150.0</td>\n",
       "    </tr>\n",
       "    <tr>\n",
       "      <th>...</th>\n",
       "      <td>...</td>\n",
       "      <td>...</td>\n",
       "      <td>...</td>\n",
       "      <td>...</td>\n",
       "      <td>...</td>\n",
       "      <td>...</td>\n",
       "      <td>...</td>\n",
       "      <td>...</td>\n",
       "      <td>...</td>\n",
       "      <td>...</td>\n",
       "      <td>...</td>\n",
       "      <td>...</td>\n",
       "      <td>...</td>\n",
       "      <td>...</td>\n",
       "      <td>...</td>\n",
       "      <td>...</td>\n",
       "      <td>...</td>\n",
       "      <td>...</td>\n",
       "      <td>...</td>\n",
       "      <td>...</td>\n",
       "      <td>...</td>\n",
       "    </tr>\n",
       "    <tr>\n",
       "      <th>11696</th>\n",
       "      <td>232504</td>\n",
       "      <td>25</td>\n",
       "      <td>5</td>\n",
       "      <td>224</td>\n",
       "      <td>62</td>\n",
       "      <td>24</td>\n",
       "      <td>51</td>\n",
       "      <td>59</td>\n",
       "      <td>28.0</td>\n",
       "      <td>248</td>\n",
       "      <td>...</td>\n",
       "      <td>75</td>\n",
       "      <td>28</td>\n",
       "      <td>56</td>\n",
       "      <td>59</td>\n",
       "      <td>60</td>\n",
       "      <td>69</td>\n",
       "      <td>65</td>\n",
       "      <td>LB</td>\n",
       "      <td>1.85</td>\n",
       "      <td>168.0</td>\n",
       "    </tr>\n",
       "    <tr>\n",
       "      <th>11697</th>\n",
       "      <td>214680</td>\n",
       "      <td>27</td>\n",
       "      <td>4</td>\n",
       "      <td>84</td>\n",
       "      <td>12</td>\n",
       "      <td>14</td>\n",
       "      <td>13</td>\n",
       "      <td>29</td>\n",
       "      <td>16.0</td>\n",
       "      <td>96</td>\n",
       "      <td>...</td>\n",
       "      <td>72</td>\n",
       "      <td>67</td>\n",
       "      <td>66</td>\n",
       "      <td>72</td>\n",
       "      <td>40</td>\n",
       "      <td>70</td>\n",
       "      <td>70</td>\n",
       "      <td>GK</td>\n",
       "      <td>1.85</td>\n",
       "      <td>174.0</td>\n",
       "    </tr>\n",
       "    <tr>\n",
       "      <th>11698</th>\n",
       "      <td>221489</td>\n",
       "      <td>22</td>\n",
       "      <td>8</td>\n",
       "      <td>286</td>\n",
       "      <td>64</td>\n",
       "      <td>66</td>\n",
       "      <td>51</td>\n",
       "      <td>64</td>\n",
       "      <td>41.0</td>\n",
       "      <td>291</td>\n",
       "      <td>...</td>\n",
       "      <td>76</td>\n",
       "      <td>60</td>\n",
       "      <td>60</td>\n",
       "      <td>72</td>\n",
       "      <td>26</td>\n",
       "      <td>43</td>\n",
       "      <td>67</td>\n",
       "      <td>LM</td>\n",
       "      <td>1.68</td>\n",
       "      <td>143.0</td>\n",
       "    </tr>\n",
       "    <tr>\n",
       "      <th>11699</th>\n",
       "      <td>146717</td>\n",
       "      <td>26</td>\n",
       "      <td>7</td>\n",
       "      <td>254</td>\n",
       "      <td>64</td>\n",
       "      <td>66</td>\n",
       "      <td>51</td>\n",
       "      <td>73</td>\n",
       "      <td>46.0</td>\n",
       "      <td>284</td>\n",
       "      <td>...</td>\n",
       "      <td>72</td>\n",
       "      <td>63</td>\n",
       "      <td>70</td>\n",
       "      <td>72</td>\n",
       "      <td>57</td>\n",
       "      <td>66</td>\n",
       "      <td>68</td>\n",
       "      <td>CB</td>\n",
       "      <td>1.88</td>\n",
       "      <td>179.0</td>\n",
       "    </tr>\n",
       "    <tr>\n",
       "      <th>11700</th>\n",
       "      <td>236507</td>\n",
       "      <td>22</td>\n",
       "      <td>9</td>\n",
       "      <td>289</td>\n",
       "      <td>43</td>\n",
       "      <td>64</td>\n",
       "      <td>65</td>\n",
       "      <td>64</td>\n",
       "      <td>53.0</td>\n",
       "      <td>267</td>\n",
       "      <td>...</td>\n",
       "      <td>79</td>\n",
       "      <td>62</td>\n",
       "      <td>56</td>\n",
       "      <td>67</td>\n",
       "      <td>24</td>\n",
       "      <td>48</td>\n",
       "      <td>64</td>\n",
       "      <td>ST</td>\n",
       "      <td>1.70</td>\n",
       "      <td>143.0</td>\n",
       "    </tr>\n",
       "  </tbody>\n",
       "</table>\n",
       "<p>11701 rows × 56 columns</p>\n",
       "</div>"
      ],
      "text/plain": [
       "           id  age  growth  attacking  crossing  finishing  heading accuracy  \\\n",
       "0      184383   26       1        258        54         47                43   \n",
       "1      188044   30       0        365        66         79                76   \n",
       "2      184431   33       0        336        73         76                34   \n",
       "3      233796   22      13        242        44         42                58   \n",
       "4      234799   23       8        249        49         37                61   \n",
       "...       ...  ...     ...        ...       ...        ...               ...   \n",
       "11696  232504   25       5        224        62         24                51   \n",
       "11697  214680   27       4         84        12         14                13   \n",
       "11698  221489   22       8        286        64         66                51   \n",
       "11699  146717   26       7        254        64         66                51   \n",
       "11700  236507   22       9        289        43         64                65   \n",
       "\n",
       "       short passing  volleys  skill  ...  pac  sho  pas  dri  def  phy  ova  \\\n",
       "0                 70     44.0    286  ...   69   51   63   63   51   60   64   \n",
       "1                 68     76.0    375  ...   83   75   68   82   33   71   77   \n",
       "2                 78     75.0    424  ...   80   77   78   86   27   56   80   \n",
       "3                 62     36.0    259  ...   57   44   54   57   57   60   59   \n",
       "4                 68     34.0    280  ...   66   44   60   64   60   66   65   \n",
       "...              ...      ...    ...  ...  ...  ...  ...  ...  ...  ...  ...   \n",
       "11696             59     28.0    248  ...   75   28   56   59   60   69   65   \n",
       "11697             29     16.0     96  ...   72   67   66   72   40   70   70   \n",
       "11698             64     41.0    291  ...   76   60   60   72   26   43   67   \n",
       "11699             73     46.0    284  ...   72   63   70   72   57   66   68   \n",
       "11700             64     53.0    267  ...   79   62   56   67   24   48   64   \n",
       "\n",
       "       position  height  weight  \n",
       "0            CM    1.75   161.0  \n",
       "1            ST    1.83   159.0  \n",
       "2           CAM    1.63   134.0  \n",
       "3           CDM    1.55   152.0  \n",
       "4           CDM    1.55   150.0  \n",
       "...         ...     ...     ...  \n",
       "11696        LB    1.85   168.0  \n",
       "11697        GK    1.85   174.0  \n",
       "11698        LM    1.68   143.0  \n",
       "11699        CB    1.88   179.0  \n",
       "11700        ST    1.70   143.0  \n",
       "\n",
       "[11701 rows x 56 columns]"
      ]
     },
     "execution_count": 38,
     "metadata": {},
     "output_type": "execute_result"
    }
   ],
   "source": [
    "# let's merge all this information together into a single dataset with all features, now numerical\n",
    "X = pd.concat([numeric, categorical], axis=1)\n",
    "X"
   ]
  },
  {
   "cell_type": "code",
   "execution_count": null,
   "id": "3875bc83",
   "metadata": {},
   "outputs": [],
   "source": []
  }
 ],
 "metadata": {
  "kernelspec": {
   "display_name": "Python 3 (ipykernel)",
   "language": "python",
   "name": "python3"
  },
  "language_info": {
   "codemirror_mode": {
    "name": "ipython",
    "version": 3
   },
   "file_extension": ".py",
   "mimetype": "text/x-python",
   "name": "python",
   "nbconvert_exporter": "python",
   "pygments_lexer": "ipython3",
   "version": "3.8.11"
  }
 },
 "nbformat": 4,
 "nbformat_minor": 5
}
