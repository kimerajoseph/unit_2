{
 "cells": [
  {
   "cell_type": "code",
   "execution_count": 1,
   "id": "0dc0351c",
   "metadata": {},
   "outputs": [],
   "source": [
    "from sklearn import linear_model\n",
    "from sklearn.metrics import mean_squared_error\n",
    "from sklearn.metrics import mean_absolute_error\n",
    "from sklearn.metrics import r2_score\n",
    "from sklearn.preprocessing import MinMaxScaler\n",
    "from sklearn.preprocessing import StandardScaler\n",
    "from sklearn.model_selection import train_test_split"
   ]
  },
  {
   "cell_type": "code",
   "execution_count": 2,
   "id": "61801af6",
   "metadata": {},
   "outputs": [
    {
     "data": {
      "text/plain": [
       "(11701, 101)"
      ]
     },
     "execution_count": 2,
     "metadata": {},
     "output_type": "execute_result"
    }
   ],
   "source": [
    "import pandas as pd\n",
    "import numpy as np\n",
    "import datetime\n",
    "import calendar\n",
    "#import datetime from datetime\n",
    "import math\n",
    "import re\n",
    "import pint\n",
    "from sklearn import linear_model\n",
    "data = pd.read_csv('fifa21_train.csv')\n",
    "data.shape"
   ]
  },
  {
   "cell_type": "code",
   "execution_count": 3,
   "id": "55bb2554",
   "metadata": {},
   "outputs": [
    {
     "data": {
      "text/plain": [
       "Index(['id', 'name', 'age', 'nationality', 'club', 'bp', 'position',\n",
       "       'team & contract', 'height', 'weight',\n",
       "       ...\n",
       "       'cdm', 'rdm', 'rwb', 'lb', 'lcb', 'cb', 'rcb', 'rb', 'gk', 'ova'],\n",
       "      dtype='object', length=101)"
      ]
     },
     "execution_count": 3,
     "metadata": {},
     "output_type": "execute_result"
    }
   ],
   "source": [
    "new_col = []\n",
    "for col in data.columns:\n",
    "    new_col.append(col.lower())\n",
    "    #print(col)\n",
    "data.columns = new_col\n",
    "data.columns\n",
    "    "
   ]
  },
  {
   "cell_type": "code",
   "execution_count": null,
   "id": "23b78fda",
   "metadata": {},
   "outputs": [],
   "source": []
  },
  {
   "cell_type": "code",
   "execution_count": 4,
   "id": "e21dfea8",
   "metadata": {},
   "outputs": [
    {
     "data": {
      "text/plain": [
       "id              0\n",
       "name            0\n",
       "age             0\n",
       "nationality     0\n",
       "club           18\n",
       "               ..\n",
       "cb              0\n",
       "rcb             0\n",
       "rb              0\n",
       "gk              0\n",
       "ova             0\n",
       "Length: 101, dtype: int64"
      ]
     },
     "execution_count": 4,
     "metadata": {},
     "output_type": "execute_result"
    }
   ],
   "source": [
    "data.isna().sum()"
   ]
  },
  {
   "cell_type": "code",
   "execution_count": 5,
   "id": "04063576",
   "metadata": {},
   "outputs": [
    {
     "data": {
      "text/html": [
       "<div>\n",
       "<style scoped>\n",
       "    .dataframe tbody tr th:only-of-type {\n",
       "        vertical-align: middle;\n",
       "    }\n",
       "\n",
       "    .dataframe tbody tr th {\n",
       "        vertical-align: top;\n",
       "    }\n",
       "\n",
       "    .dataframe thead th {\n",
       "        text-align: right;\n",
       "    }\n",
       "</style>\n",
       "<table border=\"1\" class=\"dataframe\">\n",
       "  <thead>\n",
       "    <tr style=\"text-align: right;\">\n",
       "      <th></th>\n",
       "      <th>id</th>\n",
       "      <th>age</th>\n",
       "      <th>growth</th>\n",
       "      <th>attacking</th>\n",
       "      <th>crossing</th>\n",
       "      <th>finishing</th>\n",
       "      <th>heading accuracy</th>\n",
       "      <th>short passing</th>\n",
       "      <th>volleys</th>\n",
       "      <th>skill</th>\n",
       "      <th>...</th>\n",
       "      <th>gk reflexes</th>\n",
       "      <th>total stats</th>\n",
       "      <th>base stats</th>\n",
       "      <th>pac</th>\n",
       "      <th>sho</th>\n",
       "      <th>pas</th>\n",
       "      <th>dri</th>\n",
       "      <th>def</th>\n",
       "      <th>phy</th>\n",
       "      <th>ova</th>\n",
       "    </tr>\n",
       "  </thead>\n",
       "  <tbody>\n",
       "    <tr>\n",
       "      <th>0</th>\n",
       "      <td>184383</td>\n",
       "      <td>26</td>\n",
       "      <td>1</td>\n",
       "      <td>258</td>\n",
       "      <td>54</td>\n",
       "      <td>47</td>\n",
       "      <td>43</td>\n",
       "      <td>70</td>\n",
       "      <td>44.0</td>\n",
       "      <td>286</td>\n",
       "      <td>...</td>\n",
       "      <td>6</td>\n",
       "      <td>1682</td>\n",
       "      <td>357</td>\n",
       "      <td>69</td>\n",
       "      <td>51</td>\n",
       "      <td>63</td>\n",
       "      <td>63</td>\n",
       "      <td>51</td>\n",
       "      <td>60</td>\n",
       "      <td>64</td>\n",
       "    </tr>\n",
       "    <tr>\n",
       "      <th>1</th>\n",
       "      <td>188044</td>\n",
       "      <td>30</td>\n",
       "      <td>0</td>\n",
       "      <td>365</td>\n",
       "      <td>66</td>\n",
       "      <td>79</td>\n",
       "      <td>76</td>\n",
       "      <td>68</td>\n",
       "      <td>76.0</td>\n",
       "      <td>375</td>\n",
       "      <td>...</td>\n",
       "      <td>16</td>\n",
       "      <td>1961</td>\n",
       "      <td>412</td>\n",
       "      <td>83</td>\n",
       "      <td>75</td>\n",
       "      <td>68</td>\n",
       "      <td>82</td>\n",
       "      <td>33</td>\n",
       "      <td>71</td>\n",
       "      <td>77</td>\n",
       "    </tr>\n",
       "    <tr>\n",
       "      <th>2</th>\n",
       "      <td>184431</td>\n",
       "      <td>33</td>\n",
       "      <td>0</td>\n",
       "      <td>336</td>\n",
       "      <td>73</td>\n",
       "      <td>76</td>\n",
       "      <td>34</td>\n",
       "      <td>78</td>\n",
       "      <td>75.0</td>\n",
       "      <td>424</td>\n",
       "      <td>...</td>\n",
       "      <td>3</td>\n",
       "      <td>1925</td>\n",
       "      <td>404</td>\n",
       "      <td>80</td>\n",
       "      <td>77</td>\n",
       "      <td>78</td>\n",
       "      <td>86</td>\n",
       "      <td>27</td>\n",
       "      <td>56</td>\n",
       "      <td>80</td>\n",
       "    </tr>\n",
       "    <tr>\n",
       "      <th>3</th>\n",
       "      <td>233796</td>\n",
       "      <td>22</td>\n",
       "      <td>13</td>\n",
       "      <td>242</td>\n",
       "      <td>44</td>\n",
       "      <td>42</td>\n",
       "      <td>58</td>\n",
       "      <td>62</td>\n",
       "      <td>36.0</td>\n",
       "      <td>259</td>\n",
       "      <td>...</td>\n",
       "      <td>12</td>\n",
       "      <td>1527</td>\n",
       "      <td>329</td>\n",
       "      <td>57</td>\n",
       "      <td>44</td>\n",
       "      <td>54</td>\n",
       "      <td>57</td>\n",
       "      <td>57</td>\n",
       "      <td>60</td>\n",
       "      <td>59</td>\n",
       "    </tr>\n",
       "    <tr>\n",
       "      <th>4</th>\n",
       "      <td>234799</td>\n",
       "      <td>23</td>\n",
       "      <td>8</td>\n",
       "      <td>249</td>\n",
       "      <td>49</td>\n",
       "      <td>37</td>\n",
       "      <td>61</td>\n",
       "      <td>68</td>\n",
       "      <td>34.0</td>\n",
       "      <td>280</td>\n",
       "      <td>...</td>\n",
       "      <td>15</td>\n",
       "      <td>1664</td>\n",
       "      <td>360</td>\n",
       "      <td>66</td>\n",
       "      <td>44</td>\n",
       "      <td>60</td>\n",
       "      <td>64</td>\n",
       "      <td>60</td>\n",
       "      <td>66</td>\n",
       "      <td>65</td>\n",
       "    </tr>\n",
       "  </tbody>\n",
       "</table>\n",
       "<p>5 rows × 53 columns</p>\n",
       "</div>"
      ],
      "text/plain": [
       "       id  age  growth  attacking  crossing  finishing  heading accuracy  \\\n",
       "0  184383   26       1        258        54         47                43   \n",
       "1  188044   30       0        365        66         79                76   \n",
       "2  184431   33       0        336        73         76                34   \n",
       "3  233796   22      13        242        44         42                58   \n",
       "4  234799   23       8        249        49         37                61   \n",
       "\n",
       "   short passing  volleys  skill  ...  gk reflexes  total stats  base stats  \\\n",
       "0             70     44.0    286  ...            6         1682         357   \n",
       "1             68     76.0    375  ...           16         1961         412   \n",
       "2             78     75.0    424  ...            3         1925         404   \n",
       "3             62     36.0    259  ...           12         1527         329   \n",
       "4             68     34.0    280  ...           15         1664         360   \n",
       "\n",
       "   pac  sho  pas  dri  def  phy  ova  \n",
       "0   69   51   63   63   51   60   64  \n",
       "1   83   75   68   82   33   71   77  \n",
       "2   80   77   78   86   27   56   80  \n",
       "3   57   44   54   57   57   60   59  \n",
       "4   66   44   60   64   60   66   65  \n",
       "\n",
       "[5 rows x 53 columns]"
      ]
     },
     "execution_count": 5,
     "metadata": {},
     "output_type": "execute_result"
    }
   ],
   "source": [
    "numeric = data.select_dtypes(include = np.number)\n",
    "numeric.head()"
   ]
  },
  {
   "cell_type": "code",
   "execution_count": 6,
   "id": "3aaa8c67",
   "metadata": {},
   "outputs": [
    {
     "data": {
      "text/html": [
       "<div>\n",
       "<style scoped>\n",
       "    .dataframe tbody tr th:only-of-type {\n",
       "        vertical-align: middle;\n",
       "    }\n",
       "\n",
       "    .dataframe tbody tr th {\n",
       "        vertical-align: top;\n",
       "    }\n",
       "\n",
       "    .dataframe thead th {\n",
       "        text-align: right;\n",
       "    }\n",
       "</style>\n",
       "<table border=\"1\" class=\"dataframe\">\n",
       "  <thead>\n",
       "    <tr style=\"text-align: right;\">\n",
       "      <th></th>\n",
       "      <th>name</th>\n",
       "      <th>nationality</th>\n",
       "      <th>club</th>\n",
       "      <th>bp</th>\n",
       "      <th>position</th>\n",
       "      <th>team &amp; contract</th>\n",
       "      <th>height</th>\n",
       "      <th>weight</th>\n",
       "      <th>foot</th>\n",
       "      <th>joined</th>\n",
       "      <th>...</th>\n",
       "      <th>ldm</th>\n",
       "      <th>cdm</th>\n",
       "      <th>rdm</th>\n",
       "      <th>rwb</th>\n",
       "      <th>lb</th>\n",
       "      <th>lcb</th>\n",
       "      <th>cb</th>\n",
       "      <th>rcb</th>\n",
       "      <th>rb</th>\n",
       "      <th>gk</th>\n",
       "    </tr>\n",
       "  </thead>\n",
       "  <tbody>\n",
       "    <tr>\n",
       "      <th>0</th>\n",
       "      <td>A. Pasche</td>\n",
       "      <td>Switzerland</td>\n",
       "      <td>FC Lausanne-Sport</td>\n",
       "      <td>CM</td>\n",
       "      <td>CM CDM</td>\n",
       "      <td>FC Lausanne-Sport 2015 ~ 2020</td>\n",
       "      <td>5'9\"</td>\n",
       "      <td>161lbs</td>\n",
       "      <td>Right</td>\n",
       "      <td>Jul 1, 2015</td>\n",
       "      <td>...</td>\n",
       "      <td>59+1</td>\n",
       "      <td>59+1</td>\n",
       "      <td>59+1</td>\n",
       "      <td>59+1</td>\n",
       "      <td>58+1</td>\n",
       "      <td>54+1</td>\n",
       "      <td>54+1</td>\n",
       "      <td>54+1</td>\n",
       "      <td>58+1</td>\n",
       "      <td>15+1</td>\n",
       "    </tr>\n",
       "    <tr>\n",
       "      <th>1</th>\n",
       "      <td>Alan Carvalho</td>\n",
       "      <td>China PR</td>\n",
       "      <td>Beijing Sinobo Guoan FC</td>\n",
       "      <td>ST</td>\n",
       "      <td>ST LW LM</td>\n",
       "      <td>Beijing Sinobo Guoan FC Dec 31, 2020 On Loan</td>\n",
       "      <td>6'0\"</td>\n",
       "      <td>159lbs</td>\n",
       "      <td>Right</td>\n",
       "      <td>Jan 16, 2015</td>\n",
       "      <td>...</td>\n",
       "      <td>53+2</td>\n",
       "      <td>53+2</td>\n",
       "      <td>53+2</td>\n",
       "      <td>57+2</td>\n",
       "      <td>53+2</td>\n",
       "      <td>48+2</td>\n",
       "      <td>48+2</td>\n",
       "      <td>48+2</td>\n",
       "      <td>53+2</td>\n",
       "      <td>18+2</td>\n",
       "    </tr>\n",
       "    <tr>\n",
       "      <th>2</th>\n",
       "      <td>S. Giovinco</td>\n",
       "      <td>Italy</td>\n",
       "      <td>Al Hilal</td>\n",
       "      <td>CAM</td>\n",
       "      <td>CAM CF</td>\n",
       "      <td>Al Hilal 2019 ~ 2022</td>\n",
       "      <td>5'4\"</td>\n",
       "      <td>134lbs</td>\n",
       "      <td>Right</td>\n",
       "      <td>Jan 31, 2019</td>\n",
       "      <td>...</td>\n",
       "      <td>56+2</td>\n",
       "      <td>56+2</td>\n",
       "      <td>56+2</td>\n",
       "      <td>59+2</td>\n",
       "      <td>53+2</td>\n",
       "      <td>41+2</td>\n",
       "      <td>41+2</td>\n",
       "      <td>41+2</td>\n",
       "      <td>53+2</td>\n",
       "      <td>12+2</td>\n",
       "    </tr>\n",
       "    <tr>\n",
       "      <th>3</th>\n",
       "      <td>J. Evans</td>\n",
       "      <td>Wales</td>\n",
       "      <td>Swansea City</td>\n",
       "      <td>CDM</td>\n",
       "      <td>CDM CM</td>\n",
       "      <td>Swansea City 2016 ~ 2021</td>\n",
       "      <td>5'10\"</td>\n",
       "      <td>152lbs</td>\n",
       "      <td>Right</td>\n",
       "      <td>Jul 1, 2016</td>\n",
       "      <td>...</td>\n",
       "      <td>58+2</td>\n",
       "      <td>58+2</td>\n",
       "      <td>58+2</td>\n",
       "      <td>56+2</td>\n",
       "      <td>57+2</td>\n",
       "      <td>58+2</td>\n",
       "      <td>58+2</td>\n",
       "      <td>58+2</td>\n",
       "      <td>57+2</td>\n",
       "      <td>14+2</td>\n",
       "    </tr>\n",
       "    <tr>\n",
       "      <th>4</th>\n",
       "      <td>Y. Demoncy</td>\n",
       "      <td>France</td>\n",
       "      <td>US Orléans Loiret Football</td>\n",
       "      <td>CDM</td>\n",
       "      <td>CDM CM</td>\n",
       "      <td>US Orléans Loiret Football 2018 ~ 2021</td>\n",
       "      <td>5'11\"</td>\n",
       "      <td>150lbs</td>\n",
       "      <td>Right</td>\n",
       "      <td>Jul 1, 2018</td>\n",
       "      <td>...</td>\n",
       "      <td>64+2</td>\n",
       "      <td>64+2</td>\n",
       "      <td>64+2</td>\n",
       "      <td>64+2</td>\n",
       "      <td>63+2</td>\n",
       "      <td>61+2</td>\n",
       "      <td>61+2</td>\n",
       "      <td>61+2</td>\n",
       "      <td>63+2</td>\n",
       "      <td>15+2</td>\n",
       "    </tr>\n",
       "  </tbody>\n",
       "</table>\n",
       "<p>5 rows × 48 columns</p>\n",
       "</div>"
      ],
      "text/plain": [
       "            name  nationality                        club   bp  position  \\\n",
       "0      A. Pasche  Switzerland           FC Lausanne-Sport   CM    CM CDM   \n",
       "1  Alan Carvalho     China PR     Beijing Sinobo Guoan FC   ST  ST LW LM   \n",
       "2    S. Giovinco        Italy                    Al Hilal  CAM    CAM CF   \n",
       "3       J. Evans        Wales                Swansea City  CDM    CDM CM   \n",
       "4     Y. Demoncy       France  US Orléans Loiret Football  CDM    CDM CM   \n",
       "\n",
       "                                team & contract height  weight   foot  \\\n",
       "0                 FC Lausanne-Sport 2015 ~ 2020   5'9\"  161lbs  Right   \n",
       "1  Beijing Sinobo Guoan FC Dec 31, 2020 On Loan   6'0\"  159lbs  Right   \n",
       "2                          Al Hilal 2019 ~ 2022   5'4\"  134lbs  Right   \n",
       "3                      Swansea City 2016 ~ 2021  5'10\"  152lbs  Right   \n",
       "4        US Orléans Loiret Football 2018 ~ 2021  5'11\"  150lbs  Right   \n",
       "\n",
       "         joined  ...   ldm   cdm   rdm   rwb    lb   lcb    cb   rcb    rb  \\\n",
       "0   Jul 1, 2015  ...  59+1  59+1  59+1  59+1  58+1  54+1  54+1  54+1  58+1   \n",
       "1  Jan 16, 2015  ...  53+2  53+2  53+2  57+2  53+2  48+2  48+2  48+2  53+2   \n",
       "2  Jan 31, 2019  ...  56+2  56+2  56+2  59+2  53+2  41+2  41+2  41+2  53+2   \n",
       "3   Jul 1, 2016  ...  58+2  58+2  58+2  56+2  57+2  58+2  58+2  58+2  57+2   \n",
       "4   Jul 1, 2018  ...  64+2  64+2  64+2  64+2  63+2  61+2  61+2  61+2  63+2   \n",
       "\n",
       "     gk  \n",
       "0  15+1  \n",
       "1  18+2  \n",
       "2  12+2  \n",
       "3  14+2  \n",
       "4  15+2  \n",
       "\n",
       "[5 rows x 48 columns]"
      ]
     },
     "execution_count": 6,
     "metadata": {},
     "output_type": "execute_result"
    }
   ],
   "source": [
    "categorical = data.select_dtypes(include = object)\n",
    "categorical.head()"
   ]
  },
  {
   "cell_type": "code",
   "execution_count": 7,
   "id": "5bf46812",
   "metadata": {},
   "outputs": [
    {
     "data": {
      "text/plain": [
       "name                   0\n",
       "nationality            0\n",
       "club                  18\n",
       "bp                     0\n",
       "position             288\n",
       "team & contract        0\n",
       "height                 0\n",
       "weight                 0\n",
       "foot                   0\n",
       "joined                41\n",
       "loan date end      11072\n",
       "value                  0\n",
       "wage                   0\n",
       "release clause         0\n",
       "contract               0\n",
       "w/f                    0\n",
       "sm                     0\n",
       "a/w                   59\n",
       "d/w                   59\n",
       "ir                     0\n",
       "hits                   0\n",
       "ls                     0\n",
       "st                     0\n",
       "rs                     0\n",
       "lw                     0\n",
       "lf                     0\n",
       "cf                     0\n",
       "rf                     0\n",
       "rw                     0\n",
       "lam                    0\n",
       "cam                    0\n",
       "ram                    0\n",
       "lm                     0\n",
       "lcm                    0\n",
       "cm                     0\n",
       "rcm                    0\n",
       "rm                     0\n",
       "lwb                    0\n",
       "ldm                    0\n",
       "cdm                    0\n",
       "rdm                    0\n",
       "rwb                    0\n",
       "lb                     0\n",
       "lcb                    0\n",
       "cb                     0\n",
       "rcb                    0\n",
       "rb                     0\n",
       "gk                     0\n",
       "dtype: int64"
      ]
     },
     "execution_count": 7,
     "metadata": {},
     "output_type": "execute_result"
    }
   ],
   "source": [
    "categorical.isna().sum()"
   ]
  },
  {
   "cell_type": "code",
   "execution_count": 8,
   "id": "5393a48d",
   "metadata": {},
   "outputs": [
    {
     "data": {
      "text/plain": [
       "OGC Nice          35\n",
       "Crystal Palace    35\n",
       "Everton           35\n",
       "Chelsea           33\n",
       "Sporting CP       33\n",
       "                  ..\n",
       "GIF Sundsvall      1\n",
       "FC Orenburg        1\n",
       "Germany            1\n",
       "LKS Lodz           1\n",
       "Santo André        1\n",
       "Name: club, Length: 885, dtype: int64"
      ]
     },
     "execution_count": 8,
     "metadata": {},
     "output_type": "execute_result"
    }
   ],
   "source": [
    "categorical['club'].value_counts()"
   ]
  },
  {
   "cell_type": "code",
   "execution_count": 9,
   "id": "ac5f61ef",
   "metadata": {},
   "outputs": [
    {
     "name": "stderr",
     "output_type": "stream",
     "text": [
      "C:\\Users\\KIMERA\\AppData\\Local\\Temp/ipykernel_20324/1969520170.py:2: SettingWithCopyWarning: \n",
      "A value is trying to be set on a copy of a slice from a DataFrame.\n",
      "Try using .loc[row_indexer,col_indexer] = value instead\n",
      "\n",
      "See the caveats in the documentation: https://pandas.pydata.org/pandas-docs/stable/user_guide/indexing.html#returning-a-view-versus-a-copy\n",
      "  categorical['club'] = categorical['club'].fillna('free agent')\n"
     ]
    }
   ],
   "source": [
    "#FOR PLAYERS WHERE CLUBS IS NA, WE ARE CLASSIFYING THEM AS FREE AGENTS\n",
    "categorical['club'] = categorical['club'].fillna('free agent')"
   ]
  },
  {
   "cell_type": "code",
   "execution_count": 10,
   "id": "bef126a5",
   "metadata": {},
   "outputs": [
    {
     "data": {
      "text/plain": [
       "0"
      ]
     },
     "execution_count": 10,
     "metadata": {},
     "output_type": "execute_result"
    }
   ],
   "source": [
    "categorical['club'].isna().sum()"
   ]
  },
  {
   "cell_type": "code",
   "execution_count": 11,
   "id": "4cd2adeb",
   "metadata": {},
   "outputs": [
    {
     "data": {
      "text/plain": [
       "'CB'"
      ]
     },
     "execution_count": 11,
     "metadata": {},
     "output_type": "execute_result"
    }
   ],
   "source": [
    "#FILL THE POSITION NaN WITH MODE\n",
    "#WE SHALL CONSTRUCT A MODEL TO PREDICT THE PLAYER POSITION LATER\n",
    "mode = categorical['position'].mode()[0]\n",
    "mode\n",
    "#LINK:https://stackoverflow.com/questions/21082671/find-and-select-the-most-frequent-data-of-column-in-pandas-dataframe"
   ]
  },
  {
   "cell_type": "code",
   "execution_count": 12,
   "id": "b321d221",
   "metadata": {},
   "outputs": [
    {
     "name": "stderr",
     "output_type": "stream",
     "text": [
      "C:\\Users\\KIMERA\\AppData\\Local\\Temp/ipykernel_20324/2505189410.py:2: SettingWithCopyWarning: \n",
      "A value is trying to be set on a copy of a slice from a DataFrame.\n",
      "Try using .loc[row_indexer,col_indexer] = value instead\n",
      "\n",
      "See the caveats in the documentation: https://pandas.pydata.org/pandas-docs/stable/user_guide/indexing.html#returning-a-view-versus-a-copy\n",
      "  categorical['position'] = categorical['position'].fillna(mode)\n"
     ]
    }
   ],
   "source": [
    "#REPLACE NaN IN POSITION COLUMN WITH MODE\n",
    "categorical['position'] = categorical['position'].fillna(mode)"
   ]
  },
  {
   "cell_type": "code",
   "execution_count": 13,
   "id": "ab3428ab",
   "metadata": {},
   "outputs": [
    {
     "data": {
      "text/plain": [
       "0"
      ]
     },
     "execution_count": 13,
     "metadata": {},
     "output_type": "execute_result"
    }
   ],
   "source": [
    "#CHECKING FOR NaN IN POSITION COLUMN\n",
    "categorical['position'].isna().sum()"
   ]
  },
  {
   "cell_type": "code",
   "execution_count": 14,
   "id": "f265de1f",
   "metadata": {},
   "outputs": [
    {
     "data": {
      "text/plain": [
       "datetime.date(2020, 9, 1)"
      ]
     },
     "metadata": {},
     "output_type": "display_data"
    },
    {
     "name": "stderr",
     "output_type": "stream",
     "text": [
      "C:\\Users\\KIMERA\\AppData\\Local\\Temp/ipykernel_20324/2129599596.py:7: SettingWithCopyWarning: \n",
      "A value is trying to be set on a copy of a slice from a DataFrame.\n",
      "Try using .loc[row_indexer,col_indexer] = value instead\n",
      "\n",
      "See the caveats in the documentation: https://pandas.pydata.org/pandas-docs/stable/user_guide/indexing.html#returning-a-view-versus-a-copy\n",
      "  categorical['joined'] = categorical['joined'].fillna(first_day.strftime('%b %d, %Y'))\n"
     ]
    }
   ],
   "source": [
    "#SET NAN IN JOINED DATE TO 1ST SEPTEMBER 2020\n",
    "#REASON: FiFA 21 is released usually in the second week of September or October. They usually stop collecting data on 1st September.\n",
    "#So players who change clubs after that may not be updated in the game data\n",
    "#SET DATE TO THE 1st DAY OF SEPTEMBER\n",
    "first_day = datetime.date(2020, 9, 1)\n",
    "display(first_day)\n",
    "categorical['joined'] = categorical['joined'].fillna(first_day.strftime('%b %d, %Y'))"
   ]
  },
  {
   "cell_type": "code",
   "execution_count": 15,
   "id": "7a900e9d",
   "metadata": {},
   "outputs": [
    {
     "data": {
      "text/plain": [
       "0"
      ]
     },
     "execution_count": 15,
     "metadata": {},
     "output_type": "execute_result"
    }
   ],
   "source": [
    "categorical['joined'].isna().sum()"
   ]
  },
  {
   "cell_type": "code",
   "execution_count": 16,
   "id": "f0e46bf9",
   "metadata": {},
   "outputs": [
    {
     "data": {
      "text/plain": [
       "11072"
      ]
     },
     "metadata": {},
     "output_type": "display_data"
    },
    {
     "data": {
      "text/plain": [
       "94.62439107768567"
      ]
     },
     "execution_count": 16,
     "metadata": {},
     "output_type": "execute_result"
    }
   ],
   "source": [
    "#GETTING RATIO OF NaN TO ACTUAL VALUES IN THE 'Loan Date End' COLUMN TO LENGTH OF DF\n",
    "display(categorical['loan date end'].isna().sum())\n",
    "perc = (categorical['loan date end'].isna().sum()/data.shape[0]) * 100\n",
    "perc"
   ]
  },
  {
   "cell_type": "code",
   "execution_count": 17,
   "id": "dccaa13c",
   "metadata": {},
   "outputs": [
    {
     "data": {
      "text/plain": [
       "Index(['name', 'nationality', 'club', 'bp', 'position', 'team & contract',\n",
       "       'height', 'weight', 'foot', 'joined', 'value', 'wage', 'release clause',\n",
       "       'contract', 'w/f', 'sm', 'a/w', 'd/w', 'ir', 'hits', 'ls', 'st', 'rs',\n",
       "       'lw', 'lf', 'cf', 'rf', 'rw', 'lam', 'cam', 'ram', 'lm', 'lcm', 'cm',\n",
       "       'rcm', 'rm', 'lwb', 'ldm', 'cdm', 'rdm', 'rwb', 'lb', 'lcb', 'cb',\n",
       "       'rcb', 'rb', 'gk'],\n",
       "      dtype='object')"
      ]
     },
     "execution_count": 17,
     "metadata": {},
     "output_type": "execute_result"
    }
   ],
   "source": [
    "#OVER 94% OF THE VALUES IN THE 'Loan Date End' ARE NaN. SO, WE ARE DROPPING IT\n",
    "categorical = categorical.drop(['loan date end'], axis = 1)\n",
    "categorical.columns"
   ]
  },
  {
   "cell_type": "code",
   "execution_count": 18,
   "id": "aadbd200",
   "metadata": {},
   "outputs": [],
   "source": [
    "# d = pd.Period('Dec 01, 2021',freq='M').end_time.date() \n",
    "# print(d)   "
   ]
  },
  {
   "cell_type": "code",
   "execution_count": 19,
   "id": "5a8c0570",
   "metadata": {},
   "outputs": [
    {
     "data": {
      "text/plain": [
       "82"
      ]
     },
     "execution_count": 19,
     "metadata": {},
     "output_type": "execute_result"
    }
   ],
   "source": [
    "x = '80 + 2'\n",
    "y = int(x.split('+')[0]) + int(x.split('+')[1])\n",
    "y"
   ]
  },
  {
   "cell_type": "code",
   "execution_count": 20,
   "id": "295d94ed",
   "metadata": {},
   "outputs": [
    {
     "data": {
      "text/plain": [
       "id                    0\n",
       "age                   0\n",
       "growth                0\n",
       "attacking             0\n",
       "crossing              0\n",
       "finishing             0\n",
       "heading accuracy      0\n",
       "short passing         0\n",
       "volleys              41\n",
       "skill                 0\n",
       "dribbling             0\n",
       "curve                41\n",
       "fk accuracy           0\n",
       "long passing          0\n",
       "ball control          0\n",
       "movement              0\n",
       "acceleration          0\n",
       "sprint speed          0\n",
       "agility              41\n",
       "reactions             0\n",
       "balance              41\n",
       "power                 0\n",
       "shot power            0\n",
       "jumping              41\n",
       "stamina               0\n",
       "strength              0\n",
       "long shots            0\n",
       "mentality             0\n",
       "aggression            0\n",
       "interceptions         7\n",
       "positioning           7\n",
       "vision               41\n",
       "penalties             0\n",
       "composure           279\n",
       "defending             0\n",
       "marking               0\n",
       "standing tackle       0\n",
       "sliding tackle       41\n",
       "goalkeeping           0\n",
       "gk diving             0\n",
       "gk handling           0\n",
       "gk kicking            0\n",
       "gk positioning        0\n",
       "gk reflexes           0\n",
       "total stats           0\n",
       "base stats            0\n",
       "pac                   0\n",
       "sho                   0\n",
       "pas                   0\n",
       "dri                   0\n",
       "def                   0\n",
       "phy                   0\n",
       "ova                   0\n",
       "dtype: int64"
      ]
     },
     "execution_count": 20,
     "metadata": {},
     "output_type": "execute_result"
    }
   ],
   "source": [
    "numeric.isna().sum()"
   ]
  },
  {
   "cell_type": "code",
   "execution_count": 21,
   "id": "3f1661b9",
   "metadata": {},
   "outputs": [
    {
     "data": {
      "text/plain": [
       "CB           1352\n",
       "ST           1267\n",
       "GK           1040\n",
       "CDM CM        515\n",
       "CM            449\n",
       "             ... \n",
       "RB CM CAM       1\n",
       "CF RM RW        1\n",
       "LB LWB RB       1\n",
       "LB CM LW        1\n",
       "RW LM CAM       1\n",
       "Name: position, Length: 543, dtype: int64"
      ]
     },
     "execution_count": 21,
     "metadata": {},
     "output_type": "execute_result"
    }
   ],
   "source": [
    "#REPLACE THE NaN WITH THE AVERAGE OF ALL PLAYERS IN SIMILAR POSITION\n",
    "data['position'].value_counts()"
   ]
  },
  {
   "cell_type": "code",
   "execution_count": 22,
   "id": "7b44faa7",
   "metadata": {},
   "outputs": [
    {
     "data": {
      "text/plain": [
       "41"
      ]
     },
     "execution_count": 22,
     "metadata": {},
     "output_type": "execute_result"
    }
   ],
   "source": [
    "numeric['jumping'].isna().sum()"
   ]
  },
  {
   "cell_type": "code",
   "execution_count": 23,
   "id": "82ffb9a0",
   "metadata": {},
   "outputs": [
    {
     "data": {
      "text/plain": [
       "['volleys',\n",
       " 'curve',\n",
       " 'agility',\n",
       " 'balance',\n",
       " 'jumping',\n",
       " 'interceptions',\n",
       " 'positioning',\n",
       " 'vision',\n",
       " 'composure',\n",
       " 'sliding tackle']"
      ]
     },
     "execution_count": 23,
     "metadata": {},
     "output_type": "execute_result"
    }
   ],
   "source": [
    "# GET A LIST OF ALL COLS WITH NaN VALUES IN THE NUMERIC DATAFRAME\n",
    "NaN_col_list = []\n",
    "for col in numeric.columns:\n",
    "    if numeric[col].isna().sum() != 0:\n",
    "        NaN_col_list.append(col)\n",
    "NaN_col_list        "
   ]
  },
  {
   "cell_type": "code",
   "execution_count": 24,
   "id": "a88e7cc7",
   "metadata": {},
   "outputs": [
    {
     "name": "stderr",
     "output_type": "stream",
     "text": [
      "C:\\Users\\KIMERA\\AppData\\Local\\Temp/ipykernel_20324/252384581.py:6: SettingWithCopyWarning: \n",
      "A value is trying to be set on a copy of a slice from a DataFrame.\n",
      "Try using .loc[row_indexer,col_indexer] = value instead\n",
      "\n",
      "See the caveats in the documentation: https://pandas.pydata.org/pandas-docs/stable/user_guide/indexing.html#returning-a-view-versus-a-copy\n",
      "  numeric[colx] = numeric[colx].fillna(mean)\n"
     ]
    }
   ],
   "source": [
    "#REPLACE ALL NaN VALUES WITH THE MEAN\n",
    "for colx in NaN_col_list:\n",
    "    mean = np.mean(numeric[colx])\n",
    "    mean = math.ceil(mean)\n",
    "    #display(mean)\n",
    "    numeric[colx] = numeric[colx].fillna(mean)"
   ]
  },
  {
   "cell_type": "code",
   "execution_count": 25,
   "id": "e2d1915a",
   "metadata": {},
   "outputs": [
    {
     "data": {
      "text/plain": [
       "id                  0\n",
       "age                 0\n",
       "growth              0\n",
       "attacking           0\n",
       "crossing            0\n",
       "finishing           0\n",
       "heading accuracy    0\n",
       "short passing       0\n",
       "volleys             0\n",
       "skill               0\n",
       "dribbling           0\n",
       "curve               0\n",
       "fk accuracy         0\n",
       "long passing        0\n",
       "ball control        0\n",
       "movement            0\n",
       "acceleration        0\n",
       "sprint speed        0\n",
       "agility             0\n",
       "reactions           0\n",
       "balance             0\n",
       "power               0\n",
       "shot power          0\n",
       "jumping             0\n",
       "stamina             0\n",
       "strength            0\n",
       "long shots          0\n",
       "mentality           0\n",
       "aggression          0\n",
       "interceptions       0\n",
       "positioning         0\n",
       "vision              0\n",
       "penalties           0\n",
       "composure           0\n",
       "defending           0\n",
       "marking             0\n",
       "standing tackle     0\n",
       "sliding tackle      0\n",
       "goalkeeping         0\n",
       "gk diving           0\n",
       "gk handling         0\n",
       "gk kicking          0\n",
       "gk positioning      0\n",
       "gk reflexes         0\n",
       "total stats         0\n",
       "base stats          0\n",
       "pac                 0\n",
       "sho                 0\n",
       "pas                 0\n",
       "dri                 0\n",
       "def                 0\n",
       "phy                 0\n",
       "ova                 0\n",
       "dtype: int64"
      ]
     },
     "execution_count": 25,
     "metadata": {},
     "output_type": "execute_result"
    }
   ],
   "source": [
    "numeric.isna().sum()"
   ]
  },
  {
   "cell_type": "code",
   "execution_count": 26,
   "id": "6d5f2add",
   "metadata": {},
   "outputs": [
    {
     "data": {
      "text/plain": [
       "Index(['name', 'nationality', 'club', 'bp', 'position', 'team & contract',\n",
       "       'height', 'weight', 'foot', 'joined', 'value', 'wage', 'release clause',\n",
       "       'contract', 'w/f', 'sm', 'a/w', 'd/w', 'ir', 'hits', 'ls', 'st', 'rs',\n",
       "       'lw', 'lf', 'cf', 'rf', 'rw', 'lam', 'cam', 'ram', 'lm', 'lcm', 'cm',\n",
       "       'rcm', 'rm', 'lwb', 'ldm', 'cdm', 'rdm', 'rwb', 'lb', 'lcb', 'cb',\n",
       "       'rcb', 'rb', 'gk'],\n",
       "      dtype='object')"
      ]
     },
     "execution_count": 26,
     "metadata": {},
     "output_type": "execute_result"
    }
   ],
   "source": [
    "categorical.columns"
   ]
  },
  {
   "cell_type": "code",
   "execution_count": 27,
   "id": "cc138b67",
   "metadata": {},
   "outputs": [],
   "source": [
    "# GET ONLY RELEVANT COLUMNS FROM THE CATEGORICAL DATAFRAMES\n",
    "# ALOT OF COLUMNS IN THE DATAFRAME ARE NOT RELEVANT TO THE PLAYER'S OVERALL RATING\n",
    "# COLUMNS LIKE CLUB, NATIONALITY, TEAM & COUNTRY HAVE NO IMPACT ON THE PLAYER'S OVERALL RATINGS\n",
    "categorical = categorical[['position','height','weight','foot']]"
   ]
  },
  {
   "cell_type": "code",
   "execution_count": 28,
   "id": "36dddb92",
   "metadata": {},
   "outputs": [
    {
     "data": {
      "text/plain": [
       "CB           1640\n",
       "ST           1267\n",
       "GK           1040\n",
       "CDM CM        515\n",
       "CM            449\n",
       "             ... \n",
       "RB CM CAM       1\n",
       "CF RM RW        1\n",
       "LB LWB RB       1\n",
       "LB CM LW        1\n",
       "RW LM CAM       1\n",
       "Name: position, Length: 543, dtype: int64"
      ]
     },
     "metadata": {},
     "output_type": "display_data"
    },
    {
     "data": {
      "text/plain": [
       "6'0\"     1751\n",
       "5'10\"    1636\n",
       "5'9\"     1401\n",
       "5'11\"    1314\n",
       "6'2\"     1261\n",
       "6'1\"     1257\n",
       "6'3\"      659\n",
       "5'8\"      657\n",
       "5'7\"      614\n",
       "6'4\"      497\n",
       "5'6\"      209\n",
       "6'5\"      178\n",
       "5'5\"      129\n",
       "6'6\"       75\n",
       "5'4\"       19\n",
       "6'7\"       19\n",
       "6'8\"       10\n",
       "5'3\"        9\n",
       "5'2\"        3\n",
       "5'1\"        2\n",
       "6'9\"        1\n",
       "Name: height, dtype: int64"
      ]
     },
     "metadata": {},
     "output_type": "display_data"
    },
    {
     "data": {
      "text/plain": [
       "154lbs    931\n",
       "165lbs    871\n",
       "176lbs    694\n",
       "159lbs    651\n",
       "172lbs    626\n",
       "161lbs    605\n",
       "163lbs    573\n",
       "168lbs    555\n",
       "170lbs    506\n",
       "150lbs    453\n",
       "157lbs    425\n",
       "174lbs    406\n",
       "181lbs    396\n",
       "143lbs    338\n",
       "183lbs    332\n",
       "152lbs    324\n",
       "179lbs    312\n",
       "148lbs    295\n",
       "185lbs    271\n",
       "187lbs    262\n",
       "146lbs    244\n",
       "141lbs    207\n",
       "190lbs    175\n",
       "194lbs    159\n",
       "139lbs    150\n",
       "192lbs    125\n",
       "198lbs    110\n",
       "137lbs    106\n",
       "132lbs    105\n",
       "196lbs     91\n",
       "134lbs     82\n",
       "201lbs     56\n",
       "203lbs     48\n",
       "205lbs     33\n",
       "209lbs     32\n",
       "128lbs     29\n",
       "207lbs     26\n",
       "130lbs     19\n",
       "126lbs     11\n",
       "212lbs     11\n",
       "214lbs     10\n",
       "123lbs      9\n",
       "216lbs      8\n",
       "121lbs      7\n",
       "220lbs      5\n",
       "225lbs      4\n",
       "218lbs      3\n",
       "227lbs      2\n",
       "223lbs      2\n",
       "117lbs      1\n",
       "236lbs      1\n",
       "243lbs      1\n",
       "229lbs      1\n",
       "119lbs      1\n",
       "234lbs      1\n",
       "Name: weight, dtype: int64"
      ]
     },
     "metadata": {},
     "output_type": "display_data"
    },
    {
     "data": {
      "text/plain": [
       "Right    8828\n",
       "Left     2873\n",
       "Name: foot, dtype: int64"
      ]
     },
     "metadata": {},
     "output_type": "display_data"
    }
   ],
   "source": [
    "# CHECKING COLUMN UNIQUE VALUES\n",
    "for coln in categorical.columns:\n",
    "    display(categorical[coln].value_counts())"
   ]
  },
  {
   "cell_type": "code",
   "execution_count": 29,
   "id": "f1e5b84f",
   "metadata": {},
   "outputs": [
    {
     "data": {
      "text/plain": [
       "CB      2139\n",
       "ST      1803\n",
       "CM      1310\n",
       "GK      1040\n",
       "CDM      878\n",
       "LB       839\n",
       "RB       821\n",
       "CAM      759\n",
       "LM       687\n",
       "RM       667\n",
       "LW       295\n",
       "RW       271\n",
       "CF        87\n",
       "RWB       53\n",
       "LWB       48\n",
       "ACB        1\n",
       "IVST       1\n",
       "IIRM       1\n",
       "ND         1\n",
       "Name: position, dtype: int64"
      ]
     },
     "metadata": {},
     "output_type": "display_data"
    }
   ],
   "source": [
    "# PLAYERS HAVE MULTIPLE POSITIONS. FROM LOOKING AT THE DATA, THE FIRST ONE IS THEIR NATURAL/BEST POSITION\n",
    "categorical['position'] = categorical['position'].apply(lambda x: x.split(' ')[0])\n",
    "categorical['position']\n",
    "display(categorical['position'].value_counts())"
   ]
  },
  {
   "cell_type": "code",
   "execution_count": 30,
   "id": "2edf1617",
   "metadata": {},
   "outputs": [
    {
     "data": {
      "text/plain": [
       "CB     2139\n",
       "ST     1803\n",
       "CM     1310\n",
       "GK     1040\n",
       "CDM     878\n",
       "LB      839\n",
       "RB      821\n",
       "CAM     759\n",
       "LM      687\n",
       "RM      667\n",
       "LW      295\n",
       "RW      271\n",
       "CF       87\n",
       "RWB      53\n",
       "LWB      48\n",
       "Name: position, dtype: int64"
      ]
     },
     "metadata": {},
     "output_type": "display_data"
    }
   ],
   "source": [
    "#REMOVE ALL PLAYERS WHOSE POSITIONS DO NOT APPEAR AMONG THE PROVIDED POSITIONS\n",
    "#REASON: They are few - 4 players in total\n",
    "\n",
    "drop_list = ['ACB','IVST','IIRM','ND']\n",
    "for item in drop_list:\n",
    "    categorical = categorical.drop(categorical.loc[categorical['position']==item].index)\n",
    "display(categorical['position'].value_counts())"
   ]
  },
  {
   "cell_type": "code",
   "execution_count": 31,
   "id": "8ef0e486",
   "metadata": {},
   "outputs": [],
   "source": [
    "# THE COLUMNS NEED TO BE TREATED DIFFERENTLY. FOOT HAS TWO UNIQUE VALUES\n",
    "# WE NEED TO CONVERT WEIGHT TO INT OR FLOAT BECAUSE A PLAYER'S WEIGHT IS A NUMBER\n",
    "# CONVERT THE PLAYER'S HEIGHT TO METERS\n",
    "# PLAYER ARE GIVEN VARIOUS POSITIONAL COMBINTATIONS. I WILL TAKE THE FIRST POSITION AS THE PLAYER'S POSITION"
   ]
  },
  {
   "cell_type": "code",
   "execution_count": 32,
   "id": "27350e47",
   "metadata": {},
   "outputs": [
    {
     "data": {
      "text/plain": [
       "0        161\n",
       "1        159\n",
       "2        134\n",
       "3        152\n",
       "4        150\n",
       "        ... \n",
       "11696    168\n",
       "11697    174\n",
       "11698    143\n",
       "11699    179\n",
       "11700    143\n",
       "Name: weight, Length: 11697, dtype: int64"
      ]
     },
     "execution_count": 32,
     "metadata": {},
     "output_type": "execute_result"
    }
   ],
   "source": [
    "# CONVERT WEIGHT TO INTEGER BY REMOVING THE 'lbs' AT THE END AND CONVERT STRING INTO INT \n",
    "\n",
    "categorical['weight'] = categorical['weight'].apply(lambda x: int(x.replace('lbs', '')))\n",
    "categorical['weight']"
   ]
  },
  {
   "cell_type": "code",
   "execution_count": 33,
   "id": "08436e9b",
   "metadata": {},
   "outputs": [
    {
     "data": {
      "text/plain": [
       "0    1.75\n",
       "1    1.83\n",
       "2    1.63\n",
       "3    1.55\n",
       "4    1.55\n",
       "Name: height, dtype: float64"
      ]
     },
     "execution_count": 33,
     "metadata": {},
     "output_type": "execute_result"
    }
   ],
   "source": [
    "# CONVERT THE HEIGHT FROM STRING TO METERS\n",
    "ureg = pint.UnitRegistry()\n",
    "def replace_char(x):    \n",
    "    x = re.sub('[^a-zA-Z0-9 \\n\\.]', '', x)\n",
    "    if len(x) > 2:             \n",
    "        y = int(x[0]) * ureg.feet\n",
    "        z = int(x[-2]) * ureg.inch\n",
    "        x = round(y.to(ureg.meter) + z.to(ureg.meter),2)\n",
    "    \n",
    "    elif len(x) == 2:\n",
    "        y = int(x[0])* ureg.feet\n",
    "        z = int(x[-1]) * ureg.inch\n",
    "        x = round(y.to(ureg.meter) + z.to(ureg.meter),2)\n",
    "    return x.magnitude\n",
    "    #REMOVES THE meter AND RETURN THE MAGNITUDE ONLY\n",
    "\n",
    "categorical['height'] = categorical['height'].apply(lambda x: replace_char(x))\n",
    "categorical['height'].head()"
   ]
  },
  {
   "cell_type": "code",
   "execution_count": 34,
   "id": "c024360e",
   "metadata": {},
   "outputs": [
    {
     "name": "stdout",
     "output_type": "stream",
     "text": [
      "Index(['position', 'height', 'weight', 'foot'], dtype='object')\n"
     ]
    },
    {
     "data": {
      "text/plain": [
       "Right    8826\n",
       "Left     2871\n",
       "Name: foot, dtype: int64"
      ]
     },
     "execution_count": 34,
     "metadata": {},
     "output_type": "execute_result"
    }
   ],
   "source": [
    "print(categorical.columns)\n",
    "categorical['foot'].value_counts()"
   ]
  },
  {
   "cell_type": "code",
   "execution_count": 35,
   "id": "fc3bd34e",
   "metadata": {},
   "outputs": [
    {
     "data": {
      "text/plain": [
       "0    Right\n",
       "1    Right\n",
       "2    Right\n",
       "3    Right\n",
       "4    Right\n",
       "Name: foot, dtype: object"
      ]
     },
     "execution_count": 35,
     "metadata": {},
     "output_type": "execute_result"
    }
   ],
   "source": [
    "categorical['foot'].head()"
   ]
  },
  {
   "cell_type": "code",
   "execution_count": 36,
   "id": "073e7b2a",
   "metadata": {},
   "outputs": [
    {
     "data": {
      "text/plain": [
       "Index(['position', 'height', 'weight', 'foot'], dtype='object')"
      ]
     },
     "execution_count": 36,
     "metadata": {},
     "output_type": "execute_result"
    }
   ],
   "source": [
    "categorical.columns"
   ]
  },
  {
   "cell_type": "code",
   "execution_count": 37,
   "id": "833e4dcb",
   "metadata": {},
   "outputs": [
    {
     "name": "stdout",
     "output_type": "stream",
     "text": [
      "['CAM', 'CB', 'CDM', 'CF', 'CM', 'GK', 'LB', 'LM', 'LW', 'LWB', 'RB', 'RM', 'RW', 'RWB', 'ST', 'Left', 'Right']\n"
     ]
    },
    {
     "data": {
      "text/html": [
       "<div>\n",
       "<style scoped>\n",
       "    .dataframe tbody tr th:only-of-type {\n",
       "        vertical-align: middle;\n",
       "    }\n",
       "\n",
       "    .dataframe tbody tr th {\n",
       "        vertical-align: top;\n",
       "    }\n",
       "\n",
       "    .dataframe thead th {\n",
       "        text-align: right;\n",
       "    }\n",
       "</style>\n",
       "<table border=\"1\" class=\"dataframe\">\n",
       "  <thead>\n",
       "    <tr style=\"text-align: right;\">\n",
       "      <th></th>\n",
       "      <th>CAM</th>\n",
       "      <th>CB</th>\n",
       "      <th>CDM</th>\n",
       "      <th>CF</th>\n",
       "      <th>CM</th>\n",
       "      <th>GK</th>\n",
       "      <th>LB</th>\n",
       "      <th>LM</th>\n",
       "      <th>LW</th>\n",
       "      <th>LWB</th>\n",
       "      <th>RB</th>\n",
       "      <th>RM</th>\n",
       "      <th>RW</th>\n",
       "      <th>RWB</th>\n",
       "      <th>ST</th>\n",
       "      <th>Left</th>\n",
       "      <th>Right</th>\n",
       "    </tr>\n",
       "  </thead>\n",
       "  <tbody>\n",
       "    <tr>\n",
       "      <th>0</th>\n",
       "      <td>0.0</td>\n",
       "      <td>0.0</td>\n",
       "      <td>0.0</td>\n",
       "      <td>0.0</td>\n",
       "      <td>1.0</td>\n",
       "      <td>0.0</td>\n",
       "      <td>0.0</td>\n",
       "      <td>0.0</td>\n",
       "      <td>0.0</td>\n",
       "      <td>0.0</td>\n",
       "      <td>0.0</td>\n",
       "      <td>0.0</td>\n",
       "      <td>0.0</td>\n",
       "      <td>0.0</td>\n",
       "      <td>0.0</td>\n",
       "      <td>0.0</td>\n",
       "      <td>1.0</td>\n",
       "    </tr>\n",
       "    <tr>\n",
       "      <th>1</th>\n",
       "      <td>0.0</td>\n",
       "      <td>0.0</td>\n",
       "      <td>0.0</td>\n",
       "      <td>0.0</td>\n",
       "      <td>0.0</td>\n",
       "      <td>0.0</td>\n",
       "      <td>0.0</td>\n",
       "      <td>0.0</td>\n",
       "      <td>0.0</td>\n",
       "      <td>0.0</td>\n",
       "      <td>0.0</td>\n",
       "      <td>0.0</td>\n",
       "      <td>0.0</td>\n",
       "      <td>0.0</td>\n",
       "      <td>1.0</td>\n",
       "      <td>0.0</td>\n",
       "      <td>1.0</td>\n",
       "    </tr>\n",
       "    <tr>\n",
       "      <th>2</th>\n",
       "      <td>1.0</td>\n",
       "      <td>0.0</td>\n",
       "      <td>0.0</td>\n",
       "      <td>0.0</td>\n",
       "      <td>0.0</td>\n",
       "      <td>0.0</td>\n",
       "      <td>0.0</td>\n",
       "      <td>0.0</td>\n",
       "      <td>0.0</td>\n",
       "      <td>0.0</td>\n",
       "      <td>0.0</td>\n",
       "      <td>0.0</td>\n",
       "      <td>0.0</td>\n",
       "      <td>0.0</td>\n",
       "      <td>0.0</td>\n",
       "      <td>0.0</td>\n",
       "      <td>1.0</td>\n",
       "    </tr>\n",
       "    <tr>\n",
       "      <th>3</th>\n",
       "      <td>0.0</td>\n",
       "      <td>0.0</td>\n",
       "      <td>1.0</td>\n",
       "      <td>0.0</td>\n",
       "      <td>0.0</td>\n",
       "      <td>0.0</td>\n",
       "      <td>0.0</td>\n",
       "      <td>0.0</td>\n",
       "      <td>0.0</td>\n",
       "      <td>0.0</td>\n",
       "      <td>0.0</td>\n",
       "      <td>0.0</td>\n",
       "      <td>0.0</td>\n",
       "      <td>0.0</td>\n",
       "      <td>0.0</td>\n",
       "      <td>0.0</td>\n",
       "      <td>1.0</td>\n",
       "    </tr>\n",
       "    <tr>\n",
       "      <th>4</th>\n",
       "      <td>0.0</td>\n",
       "      <td>0.0</td>\n",
       "      <td>1.0</td>\n",
       "      <td>0.0</td>\n",
       "      <td>0.0</td>\n",
       "      <td>0.0</td>\n",
       "      <td>0.0</td>\n",
       "      <td>0.0</td>\n",
       "      <td>0.0</td>\n",
       "      <td>0.0</td>\n",
       "      <td>0.0</td>\n",
       "      <td>0.0</td>\n",
       "      <td>0.0</td>\n",
       "      <td>0.0</td>\n",
       "      <td>0.0</td>\n",
       "      <td>0.0</td>\n",
       "      <td>1.0</td>\n",
       "    </tr>\n",
       "  </tbody>\n",
       "</table>\n",
       "</div>"
      ],
      "text/plain": [
       "   CAM   CB  CDM   CF   CM   GK   LB   LM   LW  LWB   RB   RM   RW  RWB   ST  \\\n",
       "0  0.0  0.0  0.0  0.0  1.0  0.0  0.0  0.0  0.0  0.0  0.0  0.0  0.0  0.0  0.0   \n",
       "1  0.0  0.0  0.0  0.0  0.0  0.0  0.0  0.0  0.0  0.0  0.0  0.0  0.0  0.0  1.0   \n",
       "2  1.0  0.0  0.0  0.0  0.0  0.0  0.0  0.0  0.0  0.0  0.0  0.0  0.0  0.0  0.0   \n",
       "3  0.0  0.0  1.0  0.0  0.0  0.0  0.0  0.0  0.0  0.0  0.0  0.0  0.0  0.0  0.0   \n",
       "4  0.0  0.0  1.0  0.0  0.0  0.0  0.0  0.0  0.0  0.0  0.0  0.0  0.0  0.0  0.0   \n",
       "\n",
       "   Left  Right  \n",
       "0   0.0    1.0  \n",
       "1   0.0    1.0  \n",
       "2   0.0    1.0  \n",
       "3   0.0    1.0  \n",
       "4   0.0    1.0  "
      ]
     },
     "execution_count": 37,
     "metadata": {},
     "output_type": "execute_result"
    }
   ],
   "source": [
    "# ENCODING CATEGORICAL DATA USING ONE ENCODER\n",
    "from sklearn.preprocessing import OneHotEncoder\n",
    "encoder = OneHotEncoder().fit(categorical[['position','foot']])\n",
    "\n",
    "#print(encoder.categories) - DOES NOT WORK. WHY???\n",
    "encoded = encoder.transform(categorical[['position','foot']]).toarray()\n",
    "\n",
    "# encoder.categories_ IS A NESTED ARRAY\n",
    "#WE CAN FLATTEN AN ARRAY OF ARRAYS USING LISTS COMPREHESION\n",
    "#Link: https://stackoverflow.com/questions/952914/how-to-make-a-flat-list-out-of-a-list-of-lists\n",
    "final_cols = [item for sublist in encoder.categories_ for item in sublist]\n",
    "print(final_cols)\n",
    "encoded = encoder.transform(categorical[['position','foot']]).toarray()\n",
    "onehot_encoded = pd.DataFrame(encoded,columns=final_cols)\n",
    "onehot_encoded.head()"
   ]
  },
  {
   "cell_type": "code",
   "execution_count": 38,
   "id": "80987174",
   "metadata": {},
   "outputs": [
    {
     "data": {
      "text/html": [
       "<div>\n",
       "<style scoped>\n",
       "    .dataframe tbody tr th:only-of-type {\n",
       "        vertical-align: middle;\n",
       "    }\n",
       "\n",
       "    .dataframe tbody tr th {\n",
       "        vertical-align: top;\n",
       "    }\n",
       "\n",
       "    .dataframe thead th {\n",
       "        text-align: right;\n",
       "    }\n",
       "</style>\n",
       "<table border=\"1\" class=\"dataframe\">\n",
       "  <thead>\n",
       "    <tr style=\"text-align: right;\">\n",
       "      <th></th>\n",
       "      <th>id</th>\n",
       "      <th>age</th>\n",
       "      <th>growth</th>\n",
       "      <th>attacking</th>\n",
       "      <th>crossing</th>\n",
       "      <th>finishing</th>\n",
       "      <th>heading accuracy</th>\n",
       "      <th>short passing</th>\n",
       "      <th>volleys</th>\n",
       "      <th>skill</th>\n",
       "      <th>...</th>\n",
       "      <th>LWB</th>\n",
       "      <th>RB</th>\n",
       "      <th>RM</th>\n",
       "      <th>RW</th>\n",
       "      <th>RWB</th>\n",
       "      <th>ST</th>\n",
       "      <th>Left</th>\n",
       "      <th>Right</th>\n",
       "      <th>weight</th>\n",
       "      <th>height</th>\n",
       "    </tr>\n",
       "  </thead>\n",
       "  <tbody>\n",
       "    <tr>\n",
       "      <th>0</th>\n",
       "      <td>184383</td>\n",
       "      <td>26</td>\n",
       "      <td>1</td>\n",
       "      <td>258</td>\n",
       "      <td>54</td>\n",
       "      <td>47</td>\n",
       "      <td>43</td>\n",
       "      <td>70</td>\n",
       "      <td>44.0</td>\n",
       "      <td>286</td>\n",
       "      <td>...</td>\n",
       "      <td>0.0</td>\n",
       "      <td>0.0</td>\n",
       "      <td>0.0</td>\n",
       "      <td>0.0</td>\n",
       "      <td>0.0</td>\n",
       "      <td>0.0</td>\n",
       "      <td>0.0</td>\n",
       "      <td>1.0</td>\n",
       "      <td>161.0</td>\n",
       "      <td>1.75</td>\n",
       "    </tr>\n",
       "    <tr>\n",
       "      <th>1</th>\n",
       "      <td>188044</td>\n",
       "      <td>30</td>\n",
       "      <td>0</td>\n",
       "      <td>365</td>\n",
       "      <td>66</td>\n",
       "      <td>79</td>\n",
       "      <td>76</td>\n",
       "      <td>68</td>\n",
       "      <td>76.0</td>\n",
       "      <td>375</td>\n",
       "      <td>...</td>\n",
       "      <td>0.0</td>\n",
       "      <td>0.0</td>\n",
       "      <td>0.0</td>\n",
       "      <td>0.0</td>\n",
       "      <td>0.0</td>\n",
       "      <td>1.0</td>\n",
       "      <td>0.0</td>\n",
       "      <td>1.0</td>\n",
       "      <td>159.0</td>\n",
       "      <td>1.83</td>\n",
       "    </tr>\n",
       "    <tr>\n",
       "      <th>2</th>\n",
       "      <td>184431</td>\n",
       "      <td>33</td>\n",
       "      <td>0</td>\n",
       "      <td>336</td>\n",
       "      <td>73</td>\n",
       "      <td>76</td>\n",
       "      <td>34</td>\n",
       "      <td>78</td>\n",
       "      <td>75.0</td>\n",
       "      <td>424</td>\n",
       "      <td>...</td>\n",
       "      <td>0.0</td>\n",
       "      <td>0.0</td>\n",
       "      <td>0.0</td>\n",
       "      <td>0.0</td>\n",
       "      <td>0.0</td>\n",
       "      <td>0.0</td>\n",
       "      <td>0.0</td>\n",
       "      <td>1.0</td>\n",
       "      <td>134.0</td>\n",
       "      <td>1.63</td>\n",
       "    </tr>\n",
       "    <tr>\n",
       "      <th>3</th>\n",
       "      <td>233796</td>\n",
       "      <td>22</td>\n",
       "      <td>13</td>\n",
       "      <td>242</td>\n",
       "      <td>44</td>\n",
       "      <td>42</td>\n",
       "      <td>58</td>\n",
       "      <td>62</td>\n",
       "      <td>36.0</td>\n",
       "      <td>259</td>\n",
       "      <td>...</td>\n",
       "      <td>0.0</td>\n",
       "      <td>0.0</td>\n",
       "      <td>0.0</td>\n",
       "      <td>0.0</td>\n",
       "      <td>0.0</td>\n",
       "      <td>0.0</td>\n",
       "      <td>0.0</td>\n",
       "      <td>1.0</td>\n",
       "      <td>152.0</td>\n",
       "      <td>1.55</td>\n",
       "    </tr>\n",
       "    <tr>\n",
       "      <th>4</th>\n",
       "      <td>234799</td>\n",
       "      <td>23</td>\n",
       "      <td>8</td>\n",
       "      <td>249</td>\n",
       "      <td>49</td>\n",
       "      <td>37</td>\n",
       "      <td>61</td>\n",
       "      <td>68</td>\n",
       "      <td>34.0</td>\n",
       "      <td>280</td>\n",
       "      <td>...</td>\n",
       "      <td>0.0</td>\n",
       "      <td>0.0</td>\n",
       "      <td>0.0</td>\n",
       "      <td>0.0</td>\n",
       "      <td>0.0</td>\n",
       "      <td>0.0</td>\n",
       "      <td>0.0</td>\n",
       "      <td>1.0</td>\n",
       "      <td>150.0</td>\n",
       "      <td>1.55</td>\n",
       "    </tr>\n",
       "  </tbody>\n",
       "</table>\n",
       "<p>5 rows × 72 columns</p>\n",
       "</div>"
      ],
      "text/plain": [
       "       id  age  growth  attacking  crossing  finishing  heading accuracy  \\\n",
       "0  184383   26       1        258        54         47                43   \n",
       "1  188044   30       0        365        66         79                76   \n",
       "2  184431   33       0        336        73         76                34   \n",
       "3  233796   22      13        242        44         42                58   \n",
       "4  234799   23       8        249        49         37                61   \n",
       "\n",
       "   short passing  volleys  skill  ...  LWB   RB   RM   RW  RWB   ST  Left  \\\n",
       "0             70     44.0    286  ...  0.0  0.0  0.0  0.0  0.0  0.0   0.0   \n",
       "1             68     76.0    375  ...  0.0  0.0  0.0  0.0  0.0  1.0   0.0   \n",
       "2             78     75.0    424  ...  0.0  0.0  0.0  0.0  0.0  0.0   0.0   \n",
       "3             62     36.0    259  ...  0.0  0.0  0.0  0.0  0.0  0.0   0.0   \n",
       "4             68     34.0    280  ...  0.0  0.0  0.0  0.0  0.0  0.0   0.0   \n",
       "\n",
       "   Right  weight  height  \n",
       "0    1.0   161.0    1.75  \n",
       "1    1.0   159.0    1.83  \n",
       "2    1.0   134.0    1.63  \n",
       "3    1.0   152.0    1.55  \n",
       "4    1.0   150.0    1.55  \n",
       "\n",
       "[5 rows x 72 columns]"
      ]
     },
     "execution_count": 38,
     "metadata": {},
     "output_type": "execute_result"
    }
   ],
   "source": [
    "# HEIGHT AND WEIGHT ARE NUMERICAL VALUES. NO NEED TO ENCODE THEM. JUST ADD THEM TO THE DATAFRAME\n",
    "# MAKE THE FINAL DATAFRAME\n",
    "data = pd.concat([numeric, onehot_encoded, categorical[['weight','height']]], axis = 1)\n",
    "data.head()"
   ]
  },
  {
   "cell_type": "code",
   "execution_count": 39,
   "id": "301d5bd9",
   "metadata": {},
   "outputs": [
    {
     "data": {
      "text/plain": [
       "Index(['growth', 'attacking', 'crossing', 'finishing', 'heading accuracy',\n",
       "       'short passing', 'volleys', 'skill', 'dribbling', 'curve',\n",
       "       'fk accuracy', 'long passing', 'ball control', 'movement',\n",
       "       'acceleration', 'sprint speed', 'agility', 'reactions', 'balance',\n",
       "       'power', 'shot power', 'jumping', 'stamina', 'strength', 'long shots',\n",
       "       'mentality', 'aggression', 'interceptions', 'positioning', 'vision',\n",
       "       'penalties', 'composure', 'defending', 'marking', 'standing tackle',\n",
       "       'sliding tackle', 'goalkeeping', 'gk diving', 'gk handling',\n",
       "       'gk kicking', 'gk positioning', 'gk reflexes', 'total stats',\n",
       "       'base stats', 'pac', 'sho', 'pas', 'dri', 'def', 'phy', 'ova', 'CAM',\n",
       "       'CB', 'CDM', 'CF', 'CM', 'GK', 'LB', 'LM', 'LW', 'LWB', 'RB', 'RM',\n",
       "       'RW', 'RWB', 'ST', 'Left', 'Right', 'weight', 'height'],\n",
       "      dtype='object')"
      ]
     },
     "execution_count": 39,
     "metadata": {},
     "output_type": "execute_result"
    }
   ],
   "source": [
    "# DROP COLUMN THAT DO NOT HAVE AN IMPACT ON THE PLAYER'S RATING\n",
    "# AGE, ID\n",
    "data = data.drop(['id', 'age'], axis = 1)\n",
    "data.columns"
   ]
  },
  {
   "cell_type": "code",
   "execution_count": 40,
   "id": "860103ce",
   "metadata": {},
   "outputs": [
    {
     "data": {
      "text/plain": [
       "growth              0\n",
       "attacking           0\n",
       "crossing            0\n",
       "finishing           0\n",
       "heading accuracy    0\n",
       "                   ..\n",
       "ST                  4\n",
       "Left                4\n",
       "Right               4\n",
       "weight              4\n",
       "height              4\n",
       "Length: 70, dtype: int64"
      ]
     },
     "execution_count": 40,
     "metadata": {},
     "output_type": "execute_result"
    }
   ],
   "source": [
    "data.isna().sum()"
   ]
  },
  {
   "cell_type": "code",
   "execution_count": 41,
   "id": "5636a4e2",
   "metadata": {},
   "outputs": [
    {
     "data": {
      "text/plain": [
       "['CAM',\n",
       " 'CB',\n",
       " 'CDM',\n",
       " 'CF',\n",
       " 'CM',\n",
       " 'GK',\n",
       " 'LB',\n",
       " 'LM',\n",
       " 'LW',\n",
       " 'LWB',\n",
       " 'RB',\n",
       " 'RM',\n",
       " 'RW',\n",
       " 'RWB',\n",
       " 'ST',\n",
       " 'Left',\n",
       " 'Right',\n",
       " 'weight',\n",
       " 'height']"
      ]
     },
     "execution_count": 41,
     "metadata": {},
     "output_type": "execute_result"
    }
   ],
   "source": [
    "# GET A LIST OF ALL COLS WITH NaN VALUES IN THE OVERALL DATAFRAME\n",
    "NaN_col_list = []\n",
    "for col in data.columns:\n",
    "    if data[col].isna().sum() != 0:\n",
    "        NaN_col_list.append(col)\n",
    "NaN_col_list "
   ]
  },
  {
   "cell_type": "code",
   "execution_count": 42,
   "id": "fbb53fb4",
   "metadata": {},
   "outputs": [],
   "source": [
    "# SINCE ALL VALUES IN THE DATAFRAME ARE NUMERICAL, REPLACE NaN WITH THE MEAN\n",
    "for colx in NaN_col_list:\n",
    "    mean = np.mean(data[colx])\n",
    "    mean = math.ceil(mean)\n",
    "    data[colx] = data[colx].fillna(mean)"
   ]
  },
  {
   "cell_type": "code",
   "execution_count": 43,
   "id": "fdd86d44",
   "metadata": {},
   "outputs": [
    {
     "data": {
      "text/plain": [
       "growth              0\n",
       "attacking           0\n",
       "crossing            0\n",
       "finishing           0\n",
       "heading accuracy    0\n",
       "                   ..\n",
       "ST                  0\n",
       "Left                0\n",
       "Right               0\n",
       "weight              0\n",
       "height              0\n",
       "Length: 70, dtype: int64"
      ]
     },
     "execution_count": 43,
     "metadata": {},
     "output_type": "execute_result"
    }
   ],
   "source": [
    "data.isna().sum()"
   ]
  },
  {
   "cell_type": "code",
   "execution_count": 44,
   "id": "12c2d64f",
   "metadata": {},
   "outputs": [
    {
     "data": {
      "text/plain": [
       "[]"
      ]
     },
     "execution_count": 44,
     "metadata": {},
     "output_type": "execute_result"
    }
   ],
   "source": [
    "# CHECK IF THERE IS STILL A COLUMN WITH NaN\n",
    "NaN_col_list = []\n",
    "for col in data.columns:\n",
    "    if data[col].isna().sum() != 0:\n",
    "        NaN_col_list.append(col)\n",
    "NaN_col_list "
   ]
  },
  {
   "cell_type": "code",
   "execution_count": 45,
   "id": "858d5d87",
   "metadata": {},
   "outputs": [],
   "source": [
    "y = data['ova']\n",
    "X = data.drop(['ova'], axis = 1)"
   ]
  },
  {
   "cell_type": "code",
   "execution_count": 46,
   "id": "d540c41e",
   "metadata": {},
   "outputs": [
    {
     "name": "stdout",
     "output_type": "stream",
     "text": [
      "(9360, 69)\n",
      "(2341, 69)\n",
      "(9360,)\n",
      "(2341,)\n"
     ]
    }
   ],
   "source": [
    "# TRAIN TEST SPLIT BEOFRE NORMALIZING\n",
    "X_train, X_test, y_train, y_test = train_test_split(X, y, test_size=0.2, random_state = 0)\n",
    "\n",
    "print(X_train.shape)\n",
    "print(X_test.shape)\n",
    "print(y_train.shape)\n",
    "print(y_test.shape)"
   ]
  },
  {
   "cell_type": "code",
   "execution_count": 47,
   "id": "db454ca1",
   "metadata": {},
   "outputs": [
    {
     "name": "stdout",
     "output_type": "stream",
     "text": [
      "(9360, 69)\n"
     ]
    },
    {
     "data": {
      "text/html": [
       "<div>\n",
       "<style scoped>\n",
       "    .dataframe tbody tr th:only-of-type {\n",
       "        vertical-align: middle;\n",
       "    }\n",
       "\n",
       "    .dataframe tbody tr th {\n",
       "        vertical-align: top;\n",
       "    }\n",
       "\n",
       "    .dataframe thead th {\n",
       "        text-align: right;\n",
       "    }\n",
       "</style>\n",
       "<table border=\"1\" class=\"dataframe\">\n",
       "  <thead>\n",
       "    <tr style=\"text-align: right;\">\n",
       "      <th></th>\n",
       "      <th>growth</th>\n",
       "      <th>attacking</th>\n",
       "      <th>crossing</th>\n",
       "      <th>finishing</th>\n",
       "      <th>heading accuracy</th>\n",
       "      <th>short passing</th>\n",
       "      <th>volleys</th>\n",
       "      <th>skill</th>\n",
       "      <th>dribbling</th>\n",
       "      <th>curve</th>\n",
       "      <th>...</th>\n",
       "      <th>LWB</th>\n",
       "      <th>RB</th>\n",
       "      <th>RM</th>\n",
       "      <th>RW</th>\n",
       "      <th>RWB</th>\n",
       "      <th>ST</th>\n",
       "      <th>Left</th>\n",
       "      <th>Right</th>\n",
       "      <th>weight</th>\n",
       "      <th>height</th>\n",
       "    </tr>\n",
       "  </thead>\n",
       "  <tbody>\n",
       "    <tr>\n",
       "      <th>0</th>\n",
       "      <td>0.037037</td>\n",
       "      <td>0.650990</td>\n",
       "      <td>0.517241</td>\n",
       "      <td>0.673913</td>\n",
       "      <td>0.625000</td>\n",
       "      <td>0.552941</td>\n",
       "      <td>0.717647</td>\n",
       "      <td>0.505855</td>\n",
       "      <td>0.593407</td>\n",
       "      <td>0.588889</td>\n",
       "      <td>...</td>\n",
       "      <td>0.0</td>\n",
       "      <td>0.0</td>\n",
       "      <td>0.0</td>\n",
       "      <td>0.0</td>\n",
       "      <td>0.0</td>\n",
       "      <td>1.0</td>\n",
       "      <td>0.0</td>\n",
       "      <td>1.0</td>\n",
       "      <td>0.411290</td>\n",
       "      <td>0.549020</td>\n",
       "    </tr>\n",
       "    <tr>\n",
       "      <th>1</th>\n",
       "      <td>0.111111</td>\n",
       "      <td>0.123762</td>\n",
       "      <td>0.091954</td>\n",
       "      <td>0.054348</td>\n",
       "      <td>0.125000</td>\n",
       "      <td>0.294118</td>\n",
       "      <td>0.094118</td>\n",
       "      <td>0.091335</td>\n",
       "      <td>0.065934</td>\n",
       "      <td>0.066667</td>\n",
       "      <td>...</td>\n",
       "      <td>0.0</td>\n",
       "      <td>0.0</td>\n",
       "      <td>0.0</td>\n",
       "      <td>0.0</td>\n",
       "      <td>0.0</td>\n",
       "      <td>0.0</td>\n",
       "      <td>0.0</td>\n",
       "      <td>1.0</td>\n",
       "      <td>0.604839</td>\n",
       "      <td>0.745098</td>\n",
       "    </tr>\n",
       "    <tr>\n",
       "      <th>2</th>\n",
       "      <td>0.777778</td>\n",
       "      <td>0.532178</td>\n",
       "      <td>0.609195</td>\n",
       "      <td>0.402174</td>\n",
       "      <td>0.454545</td>\n",
       "      <td>0.658824</td>\n",
       "      <td>0.423529</td>\n",
       "      <td>0.552693</td>\n",
       "      <td>0.615385</td>\n",
       "      <td>0.500000</td>\n",
       "      <td>...</td>\n",
       "      <td>0.0</td>\n",
       "      <td>0.0</td>\n",
       "      <td>0.0</td>\n",
       "      <td>0.0</td>\n",
       "      <td>0.0</td>\n",
       "      <td>0.0</td>\n",
       "      <td>0.0</td>\n",
       "      <td>1.0</td>\n",
       "      <td>0.322581</td>\n",
       "      <td>0.000000</td>\n",
       "    </tr>\n",
       "    <tr>\n",
       "      <th>3</th>\n",
       "      <td>0.259259</td>\n",
       "      <td>0.415842</td>\n",
       "      <td>0.252874</td>\n",
       "      <td>0.347826</td>\n",
       "      <td>0.670455</td>\n",
       "      <td>0.435294</td>\n",
       "      <td>0.294118</td>\n",
       "      <td>0.271663</td>\n",
       "      <td>0.318681</td>\n",
       "      <td>0.244444</td>\n",
       "      <td>...</td>\n",
       "      <td>0.0</td>\n",
       "      <td>0.0</td>\n",
       "      <td>0.0</td>\n",
       "      <td>0.0</td>\n",
       "      <td>0.0</td>\n",
       "      <td>0.0</td>\n",
       "      <td>1.0</td>\n",
       "      <td>0.0</td>\n",
       "      <td>0.459677</td>\n",
       "      <td>0.745098</td>\n",
       "    </tr>\n",
       "    <tr>\n",
       "      <th>4</th>\n",
       "      <td>0.481481</td>\n",
       "      <td>0.599010</td>\n",
       "      <td>0.609195</td>\n",
       "      <td>0.565217</td>\n",
       "      <td>0.409091</td>\n",
       "      <td>0.576471</td>\n",
       "      <td>0.694118</td>\n",
       "      <td>0.618267</td>\n",
       "      <td>0.725275</td>\n",
       "      <td>0.677778</td>\n",
       "      <td>...</td>\n",
       "      <td>0.0</td>\n",
       "      <td>0.0</td>\n",
       "      <td>0.0</td>\n",
       "      <td>0.0</td>\n",
       "      <td>0.0</td>\n",
       "      <td>0.0</td>\n",
       "      <td>0.0</td>\n",
       "      <td>1.0</td>\n",
       "      <td>0.322581</td>\n",
       "      <td>0.392157</td>\n",
       "    </tr>\n",
       "  </tbody>\n",
       "</table>\n",
       "<p>5 rows × 69 columns</p>\n",
       "</div>"
      ],
      "text/plain": [
       "     growth  attacking  crossing  finishing  heading accuracy  short passing  \\\n",
       "0  0.037037   0.650990  0.517241   0.673913          0.625000       0.552941   \n",
       "1  0.111111   0.123762  0.091954   0.054348          0.125000       0.294118   \n",
       "2  0.777778   0.532178  0.609195   0.402174          0.454545       0.658824   \n",
       "3  0.259259   0.415842  0.252874   0.347826          0.670455       0.435294   \n",
       "4  0.481481   0.599010  0.609195   0.565217          0.409091       0.576471   \n",
       "\n",
       "    volleys     skill  dribbling     curve  ...  LWB   RB   RM   RW  RWB   ST  \\\n",
       "0  0.717647  0.505855   0.593407  0.588889  ...  0.0  0.0  0.0  0.0  0.0  1.0   \n",
       "1  0.094118  0.091335   0.065934  0.066667  ...  0.0  0.0  0.0  0.0  0.0  0.0   \n",
       "2  0.423529  0.552693   0.615385  0.500000  ...  0.0  0.0  0.0  0.0  0.0  0.0   \n",
       "3  0.294118  0.271663   0.318681  0.244444  ...  0.0  0.0  0.0  0.0  0.0  0.0   \n",
       "4  0.694118  0.618267   0.725275  0.677778  ...  0.0  0.0  0.0  0.0  0.0  0.0   \n",
       "\n",
       "   Left  Right    weight    height  \n",
       "0   0.0    1.0  0.411290  0.549020  \n",
       "1   0.0    1.0  0.604839  0.745098  \n",
       "2   0.0    1.0  0.322581  0.000000  \n",
       "3   1.0    0.0  0.459677  0.745098  \n",
       "4   0.0    1.0  0.322581  0.392157  \n",
       "\n",
       "[5 rows x 69 columns]"
      ]
     },
     "execution_count": 47,
     "metadata": {},
     "output_type": "execute_result"
    }
   ],
   "source": [
    "# NORMALIZE BOTH THE X_train AND X_test using MinMax Scaler\n",
    "\n",
    "kimera = MinMaxScaler().fit(X_train)\n",
    "x_train_normalized = kimera.transform(X_train)\n",
    "print(x_train_normalized.shape)\n",
    "x_train_normalized = pd.DataFrame(x_train_normalized,columns=X_train.columns)\n",
    "x_train_normalized.head()"
   ]
  },
  {
   "cell_type": "code",
   "execution_count": 48,
   "id": "cd8f9584",
   "metadata": {},
   "outputs": [
    {
     "name": "stdout",
     "output_type": "stream",
     "text": [
      "(2341, 69)\n"
     ]
    },
    {
     "data": {
      "text/html": [
       "<div>\n",
       "<style scoped>\n",
       "    .dataframe tbody tr th:only-of-type {\n",
       "        vertical-align: middle;\n",
       "    }\n",
       "\n",
       "    .dataframe tbody tr th {\n",
       "        vertical-align: top;\n",
       "    }\n",
       "\n",
       "    .dataframe thead th {\n",
       "        text-align: right;\n",
       "    }\n",
       "</style>\n",
       "<table border=\"1\" class=\"dataframe\">\n",
       "  <thead>\n",
       "    <tr style=\"text-align: right;\">\n",
       "      <th></th>\n",
       "      <th>growth</th>\n",
       "      <th>attacking</th>\n",
       "      <th>crossing</th>\n",
       "      <th>finishing</th>\n",
       "      <th>heading accuracy</th>\n",
       "      <th>short passing</th>\n",
       "      <th>volleys</th>\n",
       "      <th>skill</th>\n",
       "      <th>dribbling</th>\n",
       "      <th>curve</th>\n",
       "      <th>...</th>\n",
       "      <th>LWB</th>\n",
       "      <th>RB</th>\n",
       "      <th>RM</th>\n",
       "      <th>RW</th>\n",
       "      <th>RWB</th>\n",
       "      <th>ST</th>\n",
       "      <th>Left</th>\n",
       "      <th>Right</th>\n",
       "      <th>weight</th>\n",
       "      <th>height</th>\n",
       "    </tr>\n",
       "  </thead>\n",
       "  <tbody>\n",
       "    <tr>\n",
       "      <th>0</th>\n",
       "      <td>0.037037</td>\n",
       "      <td>0.650990</td>\n",
       "      <td>0.517241</td>\n",
       "      <td>0.673913</td>\n",
       "      <td>0.625000</td>\n",
       "      <td>0.552941</td>\n",
       "      <td>0.717647</td>\n",
       "      <td>0.505855</td>\n",
       "      <td>0.593407</td>\n",
       "      <td>0.588889</td>\n",
       "      <td>...</td>\n",
       "      <td>0.0</td>\n",
       "      <td>0.0</td>\n",
       "      <td>0.0</td>\n",
       "      <td>0.0</td>\n",
       "      <td>0.0</td>\n",
       "      <td>1.0</td>\n",
       "      <td>0.0</td>\n",
       "      <td>1.0</td>\n",
       "      <td>0.411290</td>\n",
       "      <td>0.549020</td>\n",
       "    </tr>\n",
       "    <tr>\n",
       "      <th>1</th>\n",
       "      <td>0.111111</td>\n",
       "      <td>0.123762</td>\n",
       "      <td>0.091954</td>\n",
       "      <td>0.054348</td>\n",
       "      <td>0.125000</td>\n",
       "      <td>0.294118</td>\n",
       "      <td>0.094118</td>\n",
       "      <td>0.091335</td>\n",
       "      <td>0.065934</td>\n",
       "      <td>0.066667</td>\n",
       "      <td>...</td>\n",
       "      <td>0.0</td>\n",
       "      <td>0.0</td>\n",
       "      <td>0.0</td>\n",
       "      <td>0.0</td>\n",
       "      <td>0.0</td>\n",
       "      <td>0.0</td>\n",
       "      <td>0.0</td>\n",
       "      <td>1.0</td>\n",
       "      <td>0.604839</td>\n",
       "      <td>0.745098</td>\n",
       "    </tr>\n",
       "    <tr>\n",
       "      <th>2</th>\n",
       "      <td>0.777778</td>\n",
       "      <td>0.532178</td>\n",
       "      <td>0.609195</td>\n",
       "      <td>0.402174</td>\n",
       "      <td>0.454545</td>\n",
       "      <td>0.658824</td>\n",
       "      <td>0.423529</td>\n",
       "      <td>0.552693</td>\n",
       "      <td>0.615385</td>\n",
       "      <td>0.500000</td>\n",
       "      <td>...</td>\n",
       "      <td>0.0</td>\n",
       "      <td>0.0</td>\n",
       "      <td>0.0</td>\n",
       "      <td>0.0</td>\n",
       "      <td>0.0</td>\n",
       "      <td>0.0</td>\n",
       "      <td>0.0</td>\n",
       "      <td>1.0</td>\n",
       "      <td>0.322581</td>\n",
       "      <td>0.000000</td>\n",
       "    </tr>\n",
       "    <tr>\n",
       "      <th>3</th>\n",
       "      <td>0.259259</td>\n",
       "      <td>0.415842</td>\n",
       "      <td>0.252874</td>\n",
       "      <td>0.347826</td>\n",
       "      <td>0.670455</td>\n",
       "      <td>0.435294</td>\n",
       "      <td>0.294118</td>\n",
       "      <td>0.271663</td>\n",
       "      <td>0.318681</td>\n",
       "      <td>0.244444</td>\n",
       "      <td>...</td>\n",
       "      <td>0.0</td>\n",
       "      <td>0.0</td>\n",
       "      <td>0.0</td>\n",
       "      <td>0.0</td>\n",
       "      <td>0.0</td>\n",
       "      <td>0.0</td>\n",
       "      <td>1.0</td>\n",
       "      <td>0.0</td>\n",
       "      <td>0.459677</td>\n",
       "      <td>0.745098</td>\n",
       "    </tr>\n",
       "    <tr>\n",
       "      <th>4</th>\n",
       "      <td>0.481481</td>\n",
       "      <td>0.599010</td>\n",
       "      <td>0.609195</td>\n",
       "      <td>0.565217</td>\n",
       "      <td>0.409091</td>\n",
       "      <td>0.576471</td>\n",
       "      <td>0.694118</td>\n",
       "      <td>0.618267</td>\n",
       "      <td>0.725275</td>\n",
       "      <td>0.677778</td>\n",
       "      <td>...</td>\n",
       "      <td>0.0</td>\n",
       "      <td>0.0</td>\n",
       "      <td>0.0</td>\n",
       "      <td>0.0</td>\n",
       "      <td>0.0</td>\n",
       "      <td>0.0</td>\n",
       "      <td>0.0</td>\n",
       "      <td>1.0</td>\n",
       "      <td>0.322581</td>\n",
       "      <td>0.392157</td>\n",
       "    </tr>\n",
       "  </tbody>\n",
       "</table>\n",
       "<p>5 rows × 69 columns</p>\n",
       "</div>"
      ],
      "text/plain": [
       "     growth  attacking  crossing  finishing  heading accuracy  short passing  \\\n",
       "0  0.037037   0.650990  0.517241   0.673913          0.625000       0.552941   \n",
       "1  0.111111   0.123762  0.091954   0.054348          0.125000       0.294118   \n",
       "2  0.777778   0.532178  0.609195   0.402174          0.454545       0.658824   \n",
       "3  0.259259   0.415842  0.252874   0.347826          0.670455       0.435294   \n",
       "4  0.481481   0.599010  0.609195   0.565217          0.409091       0.576471   \n",
       "\n",
       "    volleys     skill  dribbling     curve  ...  LWB   RB   RM   RW  RWB   ST  \\\n",
       "0  0.717647  0.505855   0.593407  0.588889  ...  0.0  0.0  0.0  0.0  0.0  1.0   \n",
       "1  0.094118  0.091335   0.065934  0.066667  ...  0.0  0.0  0.0  0.0  0.0  0.0   \n",
       "2  0.423529  0.552693   0.615385  0.500000  ...  0.0  0.0  0.0  0.0  0.0  0.0   \n",
       "3  0.294118  0.271663   0.318681  0.244444  ...  0.0  0.0  0.0  0.0  0.0  0.0   \n",
       "4  0.694118  0.618267   0.725275  0.677778  ...  0.0  0.0  0.0  0.0  0.0  0.0   \n",
       "\n",
       "   Left  Right    weight    height  \n",
       "0   0.0    1.0  0.411290  0.549020  \n",
       "1   0.0    1.0  0.604839  0.745098  \n",
       "2   0.0    1.0  0.322581  0.000000  \n",
       "3   1.0    0.0  0.459677  0.745098  \n",
       "4   0.0    1.0  0.322581  0.392157  \n",
       "\n",
       "[5 rows x 69 columns]"
      ]
     },
     "execution_count": 48,
     "metadata": {},
     "output_type": "execute_result"
    }
   ],
   "source": [
    "# NORMALIZE X_test\n",
    "\n",
    "kimera = MinMaxScaler().fit(X_test)\n",
    "x_test_normalized = kimera.transform(X_test)\n",
    "print(x_test_normalized.shape)\n",
    "x_test_normalized = pd.DataFrame(x_train_normalized,columns=X_test.columns)\n",
    "x_test_normalized.head()"
   ]
  },
  {
   "cell_type": "code",
   "execution_count": 49,
   "id": "d1e3cb03",
   "metadata": {},
   "outputs": [
    {
     "data": {
      "text/plain": [
       "LinearRegression()"
      ]
     },
     "execution_count": 49,
     "metadata": {},
     "output_type": "execute_result"
    }
   ],
   "source": [
    "# TRAIN THE MODEL\n",
    "\n",
    "lm = linear_model.LinearRegression()\n",
    "lm.fit(X_train,y_train) "
   ]
  },
  {
   "cell_type": "code",
   "execution_count": 50,
   "id": "dac8af9c",
   "metadata": {},
   "outputs": [
    {
     "name": "stdout",
     "output_type": "stream",
     "text": [
      "0.89\n"
     ]
    }
   ],
   "source": [
    "# Applying Model\n",
    "from sklearn.metrics import r2_score\n",
    "predictions = lm.predict(X_train)\n",
    "r2_score(y_train, predictions)\n",
    "print(round(r2_score(y_train, predictions),2))"
   ]
  },
  {
   "cell_type": "code",
   "execution_count": 51,
   "id": "43d529ae",
   "metadata": {},
   "outputs": [
    {
     "name": "stdout",
     "output_type": "stream",
     "text": [
      "R2_SCORE IS:  0.9\n"
     ]
    }
   ],
   "source": [
    "#EVALUATING THE MODEL USING THE TEST DATA\n",
    "\n",
    "predictions = lm.predict(X_test)\n",
    "r2_score(y_test, predictions)\n",
    "print(\"R2_SCORE IS: \", round(r2_score(y_test, predictions),2))"
   ]
  },
  {
   "cell_type": "code",
   "execution_count": 52,
   "id": "229227c7",
   "metadata": {},
   "outputs": [],
   "source": [
    "# # Model Validation\n",
    "# from sklearn.metrics import mean_squared_error,mean_absolute_error"
   ]
  },
  {
   "cell_type": "code",
   "execution_count": 53,
   "id": "c8c030d7",
   "metadata": {},
   "outputs": [
    {
     "name": "stdout",
     "output_type": "stream",
     "text": [
      "MSE:  4.98\n"
     ]
    }
   ],
   "source": [
    "mse = mean_squared_error(y_test, predictions)\n",
    "print(\"MSE: \", round(mse,2))"
   ]
  },
  {
   "cell_type": "code",
   "execution_count": 54,
   "id": "088ef9b4",
   "metadata": {},
   "outputs": [
    {
     "name": "stdout",
     "output_type": "stream",
     "text": [
      "rmse: 2.23\n"
     ]
    }
   ],
   "source": [
    "rmse = np.sqrt(mean_squared_error(y_test,predictions))\n",
    "print('rmse:',round(rmse,2))"
   ]
  },
  {
   "cell_type": "code",
   "execution_count": 55,
   "id": "20e54153",
   "metadata": {},
   "outputs": [],
   "source": [
    "# CONCLUSION\n",
    "# OUR MODEL IS RELATIVELY OKAY\n",
    "# I WILL IMPROVE IT AS I LEARN MORE ABOUT MACHINE LEARNING"
   ]
  }
 ],
 "metadata": {
  "kernelspec": {
   "display_name": "Python 3 (ipykernel)",
   "language": "python",
   "name": "python3"
  },
  "language_info": {
   "codemirror_mode": {
    "name": "ipython",
    "version": 3
   },
   "file_extension": ".py",
   "mimetype": "text/x-python",
   "name": "python",
   "nbconvert_exporter": "python",
   "pygments_lexer": "ipython3",
   "version": "3.8.11"
  }
 },
 "nbformat": 4,
 "nbformat_minor": 5
}
